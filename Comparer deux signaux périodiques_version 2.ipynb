{
 "cells": [
  {
   "cell_type": "markdown",
   "metadata": {},
   "source": [
    "## Génération des coordonnées des deux signaux périodiques"
   ]
  },
  {
   "cell_type": "code",
   "execution_count": null,
   "metadata": {},
   "outputs": [],
   "source": [
    "from math import pi, sin\n",
    "\n",
    "\"\"\"\n",
    "Fonction générant les coordonnées du signal sinusoïdal s(t) à partir des paramètres choisis par l'utilisateur\n",
    "Entrées : amplitude A (en UA), période T (en s), durée maximal t_max (en s)\n",
    "Résultat : ensemble sous forme d'une liste des coordonnées des points formant le signal sinusoïdal\n",
    "\"\"\"\n",
    "def signal_t(A,T,t_max):\n",
    "    t=[]                                     # Création d'une liste vide pour le temps en s\n",
    "    s=[]                                     # Création d'une liste vide pour l'image de la fonction sinusoïdale s(t) en UA\n",
    "    points=1000                              # 1 000 couples de coordonnées\n",
    "    for i in range(points):                  # Boucle pour compléter les listes\n",
    "        t.append(i*t_max/points)             # Ajout du temps en s commençant à t = 0 s\n",
    "        s.append(A*sin(2*pi/T*t[i]+pi/2))    # Ajout de l'image de la fonction sinusoïdale s(t) avec un déphasage de + π/2\n",
    "    return [t,s]                             # Renvoie une liste des listes temps et image de la fonction sinusoïdale s(t)"
   ]
  },
  {
   "cell_type": "code",
   "execution_count": null,
   "metadata": {},
   "outputs": [],
   "source": [
    "#signal n°1\n",
    "A1 = ---A COMPLETER---         # Amplitude en UA\n",
    "T1 = ---A COMPLETER---         # Période en s\n",
    "\n",
    "#signal n°2\n",
    "A2 = ---A COMPLETER---         # Amplitude en UA\n",
    "T2 = ---A COMPLETER---         # Période en s\n",
    "\n",
    "t_max = ---A COMPLETER---      # Durée maximale en s (valeur entière)\n",
    "\n",
    "'''Exemple\n",
    "A1=1.8\n",
    "T1=2.4\n",
    "A2=3\n",
    "T2=2.8\n",
    "t_max=10'''\n",
    "\n",
    "t,s1=signal_t(A1,T1,t_max)\n",
    "t,s2=signal_t(A2,T2,t_max)"
   ]
  },
  {
   "cell_type": "markdown",
   "metadata": {
    "collapsed": true
   },
   "source": [
    "## Comparaison des deux signaux périodiques"
   ]
  },
  {
   "cell_type": "code",
   "execution_count": null,
   "metadata": {},
   "outputs": [],
   "source": [
    "import matplotlib.pyplot as plt\n",
    "\n",
    "fig = plt.figure(figsize=(10,10)) # taille de l'affichage de la figure\n",
    "\n",
    "# premier graphe\n",
    "ax1 = fig.add_subplot(2, 1, 1)                            # séparation horizontale en deux de la figure\n",
    "ax1.set_title('Comparaison de deux signaux sinusoïdaux')  # Titre du graphe\n",
    "ax1.plot(t,s1,color=\"blue\",linewidth=1.0,linestyle=\"-\",\n",
    "         label=\"A1 = {:.1f} m et T1 = {:.1f} s\".format(A1,T1))\n",
    "# Trace le premier signal s1=f(t) en trait plein bleu\n",
    "# Affiche en légende de A1 et T1 avec un chiffre après la virgule\n",
    "ax1.legend(loc='upper right')                             # Affiche la légende en haut à droite\n",
    "ax1.set_xlim(0,t_max)                                     # Bornes de l'axe des abscisses\n",
    "ax1.set_ylim(-1.2*max(A1,A2),1.2*max(A1,A2))              # Bornes de l'axe des ordonnées\n",
    "ax1.set_xlabel('temps (en s)')                            # légende axe des abscisses\n",
    "ax1.set_ylabel('amplitude (en UA)')                       # légende axe des ordonnées\n",
    "ax1.grid(linestyle=\":\")                                   # Affiche une grille en petits points\n",
    "\n",
    "# second graphe\n",
    "ax2 = fig.add_subplot(2, 1, 2)\n",
    "ax2.plot(t,s2,color=\"green\",linewidth=3,linestyle=\"--\",\n",
    "         label=\"A2 = {:.1f} m et T2 = {:.1f} s\".format(A2,T2))\n",
    "# Trace le second signal s2=f(t) en pointillés verts et épais\n",
    "# Affiche en légende A2 et T2 avec un chiffre après la virgule\n",
    "ax2.legend(loc='upper right')                             # Affiche la légende en haut à droite\n",
    "ax2.set_xlim(0,t_max)                                     # Bornes de l'axe des abscisses\n",
    "ax2.set_ylim(-1.2*max(A1,A2),1.2*max(A1,A2))              # Bornes de l'axe des ordonnées\n",
    "ax2.set_xlabel('temps (en s)')                            # légende axe des abscisses\n",
    "ax2.set_ylabel('amplitude (en UA)')                       # légende axe des ordonnées\n",
    "ax2.grid(linestyle=\":\")                                   # Affiche une grille en petits points\n"
   ]
  },
  {
   "cell_type": "code",
   "execution_count": null,
   "metadata": {},
   "outputs": [],
   "source": []
  }
 ],
 "metadata": {
  "kernelspec": {
   "display_name": "Python 3",
   "language": "python",
   "name": "python3"
  },
  "language_info": {
   "codemirror_mode": {
    "name": "ipython",
    "version": 3
   },
   "file_extension": ".py",
   "mimetype": "text/x-python",
   "name": "python",
   "nbconvert_exporter": "python",
   "pygments_lexer": "ipython3",
   "version": "3.7.6"
  }
 },
 "nbformat": 4,
 "nbformat_minor": 2
}
