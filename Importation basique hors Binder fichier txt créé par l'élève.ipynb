{
 "cells": [
  {
   "cell_type": "markdown",
   "metadata": {},
   "source": [
    "## Réalisation du pointage\n",
    "<div class=\"alert alert-info\" role=\"alert\">Réaliser le pointage de la vidéo avec Aviméca à l'aide du tutoriel vidéo : sur la tablette ou <a href=\"https://youtu.be/yKxFSXpi3SA\">sur Youtube</a></div><br>\n",
    "<div class=\"alert alert-info\" role=\"alert\">Enregistrer le tableau de mesures : Fichier > Mesures > Enregistrer dans un fichier > Format texte (.txt)<br>\n",
    "Choisir \"Point virgule\" comme séparateur des données</div><br>\n",
    "\n",
    "## Importation des mesures\n",
    "<div class=\"alert alert-danger\" role=\"alert\">\n",
    "<center><font size=\"5\">La fonction ci-dessous ne fonctionne pas dans Binder et l'ENT. <br>En revanche, elle fonctionne avec le Jupyter sous EduPython.</font></center>\n",
    "</div>"
   ]
  },
  {
   "cell_type": "code",
   "execution_count": null,
   "metadata": {},
   "outputs": [],
   "source": [
    "from tkinter.filedialog import askopenfilename\n",
    "from tkinter import Tk\n",
    "\n",
    "\"\"\"\n",
    "Fonction important les coordonnées t, x et y depuis un fichier .txt provenant d'Aviméca\n",
    "(avec le point-virgule comme séparateur entre les données) préalablement uploadé \n",
    "Entrées : aucune\n",
    "Résultat : liste contenant la liste de tous les t (en s), la liste de tous les x (en m) et la liste de tous les y (en m)\n",
    "\"\"\"\n",
    "def import_avimeca():\n",
    "    Mafenetre = Tk() #on ouvre la fenêtre Tk\n",
    "    Mafenetre.withdraw() #on cache la fenêtre\n",
    "\n",
    "    #on peut donner le chemin d'accès vers le fichier ou la fonction askopenfilename\n",
    "    name = askopenfilename(parent=Mafenetre,filetypes =((\"Fichier Texte\",\"*.txt\"),(\"Fichier CSV\", \"*.csv\"),(\"Tous les fichiers\",\"*.*\")),title = \"Choisir un fichier\")\n",
    "    #on definit explicitement cette fenêtre comme objet parent de askopenfilename\n",
    "\n",
    "    sep=\";\" # séparateur entre les données\n",
    "    entete = 3 #nombre de lignes d'entete\n",
    "    f = open(name,\"r\") # r= read, w = write\n",
    "    data = f.readlines() #on lit toutes les lignes et on met ça dans une liste -un élément par ligne-\n",
    "    f.close() #on referme le fichier\n",
    "    Mafenetre.destroy() #on ferme la fenêtre Tk\n",
    "\n",
    "    data = data[ entete : ] #on supprime les lignes d'en-tête qui ne nous intéressent pas\n",
    "\n",
    "    #on construit les listes de valeurs utiles\n",
    "    t = []\n",
    "    x = []\n",
    "    y = []\n",
    "    for ligne in data:\n",
    "        ligne = ligne.replace(\",\" , \".\") #change les virgules en point => format numérique différent sur aviméca et sur python\n",
    "        ligne = ligne.strip().split(sep) #on sépare les différents élément en utilisant le caractère séparateur défini\n",
    "        ligne = list(map(float,ligne)) #on convertit chaque élément en float\n",
    "        #on rentre les valeurs dans les listes adaptées\n",
    "        t.append(ligne[0])\n",
    "        x.append(ligne[1])\n",
    "        y.append(ligne[2])\n",
    "    print(\"Le fichier a bien été importé\")\n",
    "    return [t,x,y]"
   ]
  },
  {
   "cell_type": "code",
   "execution_count": null,
   "metadata": {},
   "outputs": [],
   "source": [
    "t,x,y = import_avimeca()"
   ]
  },
  {
   "cell_type": "markdown",
   "metadata": {},
   "source": [
    "<div class=\"alert alert-success\" role=\"alert\">\n",
    "Il faut maintenant comprendre comment les informations sont stockées.\n",
    "</div>"
   ]
  },
  {
   "cell_type": "code",
   "execution_count": null,
   "metadata": {},
   "outputs": [],
   "source": [
    "print(t)"
   ]
  },
  {
   "cell_type": "code",
   "execution_count": null,
   "metadata": {},
   "outputs": [],
   "source": [
    "print(x)"
   ]
  },
  {
   "cell_type": "code",
   "execution_count": null,
   "metadata": {},
   "outputs": [],
   "source": [
    "print(y)"
   ]
  },
  {
   "cell_type": "code",
   "execution_count": null,
   "metadata": {},
   "outputs": [],
   "source": [
    "print(\"Coordonnées du premier point :\",t[0],x[0],y[0])"
   ]
  },
  {
   "cell_type": "code",
   "execution_count": null,
   "metadata": {},
   "outputs": [],
   "source": [
    "print(\"Coordonnées du dernier point :\",t[-1],x[-1],y[-1])"
   ]
  }
 ],
 "metadata": {
  "kernelspec": {
   "display_name": "Python 3",
   "language": "python",
   "name": "python3"
  },
  "language_info": {
   "codemirror_mode": {
    "name": "ipython",
    "version": 3
   },
   "file_extension": ".py",
   "mimetype": "text/x-python",
   "name": "python",
   "nbconvert_exporter": "python",
   "pygments_lexer": "ipython3",
   "version": "3.7.6"
  }
 },
 "nbformat": 4,
 "nbformat_minor": 4
}
