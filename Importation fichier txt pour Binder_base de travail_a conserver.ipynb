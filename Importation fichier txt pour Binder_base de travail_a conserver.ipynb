{
 "cells": [
  {
   "cell_type": "markdown",
   "metadata": {},
   "source": [
    "# Importation fichier aviméca (basique)"
   ]
  },
  {
   "cell_type": "code",
   "execution_count": 39,
   "metadata": {},
   "outputs": [
    {
     "data": {
      "application/vnd.jupyter.widget-view+json": {
       "model_id": "13a18c01cddf487090e5d661b1249e81",
       "version_major": 2,
       "version_minor": 0
      },
      "text/plain": [
       "HTML(value=\"<b><font color='blue'>Sélectionner un fichier .txt provenant d'Aviméca et attendre que le 0 dispar…"
      ]
     },
     "metadata": {},
     "output_type": "display_data"
    },
    {
     "data": {
      "application/vnd.jupyter.widget-view+json": {
       "model_id": "14461ccd972f4a479dc06975fa595036",
       "version_major": 2,
       "version_minor": 0
      },
      "text/plain": [
       "FileUpload(value={}, accept='.txt', description='Upload')"
      ]
     },
     "metadata": {},
     "output_type": "display_data"
    }
   ],
   "source": [
    "\"\"\"\n",
    "Fonction important les coordonnées t, x et y depuis un fichier .txt provenant d'Aviméca\n",
    "(avec le point-virgule comme séparateur entre les données) préalablement uploadé \n",
    "Entrées : aucune\n",
    "Résultat : liste contenant la liste de tous les t (en s), la liste de tous les x (en m) et la liste de tous les y (en m)\n",
    "\"\"\"\n",
    "def import_avimeca():\n",
    "    if uploader.value=={}:\n",
    "        print(\"\\n Aucun fichier n'est uplaodé. L'importation est annulée. \\n Utiliser le bouton Upload ci-dessus puis exécuter à nouveau ce bloc.\")\n",
    "    else :        \n",
    "        sep=\";\" # séparateur entre les données\n",
    "        entete = 3 # nombre de lignes d'entete\n",
    "        [uploaded_file] = uploader.value # stocke le nom du fichier uplaodé\n",
    "        content = uploader.value[uploaded_file][\"content\"] # stocke les valeurs contenues dans le fichier uplaodé\n",
    "        content_str = str(content, 'ansi') # convertit et décode les valeurs en texte\n",
    "        data=content_str.split() # stocke les valeurs dans une liste\n",
    "        data = data[ entete+1 : ] # supprime les lignes d'en-tête qui ne nous intéressent pas\n",
    "\n",
    "        # Constuction des listes de valeurs utiles\n",
    "        t = []\n",
    "        x = []\n",
    "        y = []\n",
    "        for ligne in data:\n",
    "            ligne = ligne.replace(\",\" , \".\") # change les virgules en point => format numérique différent sur aviméca et sur python\n",
    "            ligne = ligne.strip().split(sep) # sépare les différents élément en utilisant le caractère séparateur défini\n",
    "            ligne = list(map(float,ligne)) # convertit chaque élément en nombre décimal (float)\n",
    "            # Stockage des valeurs dans les listes adaptées\n",
    "            t.append(ligne[0])\n",
    "            x.append(ligne[1])\n",
    "            y.append(ligne[2])\n",
    "        print(\"Le fichier\",uploaded_file, \"a bien été importé.\")\n",
    "        return [t,x,y]\n",
    "\n",
    "from ipywidgets import FileUpload, HTML\n",
    "\n",
    "uploader=FileUpload(\n",
    "    accept='.txt',  # accepte de préférence les fichiers .txt\n",
    "    multiple=False  # accepte un seul fichier\n",
    ")\n",
    "aide=HTML(value = f\"<b><font color='blue'>Sélectionner un fichier .txt provenant d'Aviméca et attendre que le 0 disparaisse</b>\")\n",
    "display(aide,uploader) # affiche le bouton \"Upload\" pour choisir le fichier à uploader"
   ]
  },
  {
   "cell_type": "code",
   "execution_count": 36,
   "metadata": {},
   "outputs": [
    {
     "name": "stdout",
     "output_type": "stream",
     "text": [
      "Le fichier Fichier aviméca_point-virgule.txt a bien été importé.\n"
     ]
    }
   ],
   "source": [
    "t,x,y = import_avimeca()"
   ]
  },
  {
   "cell_type": "code",
   "execution_count": 23,
   "metadata": {},
   "outputs": [
    {
     "name": "stdout",
     "output_type": "stream",
     "text": [
      "[0.0, 0.04, 0.08, 0.12, 0.16, 0.2, 0.24, 0.28, 0.32, 0.36, 0.4, 0.44, 0.48, 0.52, 0.56, 0.6, 0.64, 0.68, 0.72, 0.76, 0.8, 0.84, 0.88, 0.92, 0.96, 1.0, 1.04, 1.08]\n",
      "[-0.0104, 0.0729, 0.156, 0.25, 0.34, 0.399, 0.49, 0.58, 0.67, 0.74, 0.82, 0.92, 0.976, 1.07, 1.16, 1.24, 1.33, 1.41, 1.48, 1.56, 1.65, 1.73, 1.82, 1.89, 1.99, 2.05, 2.14, 2.23]\n",
      "[1.07, 1.17, 1.28, 1.38, 1.44, 1.52, 1.58, 1.66, 1.72, 1.77, 1.81, 1.85, 1.87, 1.89, 1.9, 1.9, 1.9, 1.91, 1.89, 1.88, 1.84, 1.8, 1.75, 1.71, 1.66, 1.6, 1.53, 1.44]\n"
     ]
    }
   ],
   "source": [
    "print(t)\n",
    "print(x)\n",
    "print(y)"
   ]
  },
  {
   "cell_type": "markdown",
   "metadata": {},
   "source": [
    "# Importation fichier aviméca (amélioré)"
   ]
  },
  {
   "cell_type": "code",
   "execution_count": 40,
   "metadata": {},
   "outputs": [],
   "source": [
    "import ipywidgets as widgets\n",
    "\n",
    "def content_parser():\n",
    "    if up.value == {}:\n",
    "        with out:\n",
    "            print(\"Veuillez effectuer l'étape n°1\")    \n",
    "    else:\n",
    "        #content = \"\"\n",
    "        #up_value = up.value # récupère les données du fichier uplaodé dans la variable uploader\n",
    "        [uploaded_file] = up.value # récupère le nom du fichier uplaodé\n",
    "        return up.value[uploaded_file][\"content\"] # récupère les valeurs contenues dans le fichier uplaodé\n",
    "def content_converter(rows,delim):\n",
    "    content = content_parser()\n",
    "    if content is not None:\n",
    "        content_str = str(content, 'ansi') # convertit et décode les valeurs en texte\n",
    "        content_new=content_str.replace(delim , '\\t')\n",
    "        data=content_new.split('\\n') # stocke les valeurs dans une liste\n",
    "        data = data[ rows : ] # supprime les lignes d'en-tête qui ne nous intéressent pas\n",
    "        return data\n",
    "    else:\n",
    "        return None\n",
    "def preview():\n",
    "    content = content_converter(rows.value,delim.value)\n",
    "    if content is not None:\n",
    "        apercu='\\n'.join(content)\n",
    "    with out:\n",
    "        if content is not None:\n",
    "            out.clear_output()\n",
    "            print('\\n -----Voici les données extraites du fichier----- \\n')\n",
    "            print(apercu)\n",
    "            print(\"\\n -----Si l'aperçu vous convient, éxécuter le bloc suivant pour importer les données----- \\n\")\n",
    "        elif up.value == {}:\n",
    "            print('')\n",
    "        else:    \n",
    "            out.clear_output()\n",
    "            print(\"Erreur au niveau du fichier ou des paramètres d'importation\")\n",
    "def upload():\n",
    "    content = content_parser()\n",
    "    if up.value!={}:\n",
    "        content_str = str(content, 'ansi') # convertit et décode les valeurs en texte\n",
    "        data=content_str.split() # stocke les valeurs dans une liste\n",
    "        data = data[ rows.value+1 : ] # supprime les lignes d'en-tête qui ne nous intéressent pas\n",
    "\n",
    "        # Constuction des listes de valeurs utiles\n",
    "        t = []\n",
    "        x = []\n",
    "        y = []\n",
    "        for ligne in data:\n",
    "            ligne = ligne.replace(\",\" , \".\") # change les virgules en point => format numérique différent sur aviméca et sur python\n",
    "            ligne = ligne.strip().split(delim.value) # sépare les différents élément en utilisant le caractère séparateur défini\n",
    "            ligne = list(map(float,ligne)) # convertit chaque élément en nombre décimal (float)\n",
    "            # Stockage des valeurs dans les listes adaptées\n",
    "            t.append(ligne[0])\n",
    "            x.append(ligne[1])\n",
    "            y.append(ligne[2])\n",
    "        [uploaded_file] = up.value\n",
    "        print(\"\\n --------Le fichier\",uploaded_file, \"a bien été importé.-------- \\n\")\n",
    "        return [t,x,y]          \n",
    "                   \n",
    "def preview_clicked(b):\n",
    "    preview()"
   ]
  },
  {
   "cell_type": "code",
   "execution_count": 10,
   "metadata": {
    "scrolled": false
   },
   "outputs": [
    {
     "data": {
      "application/vnd.jupyter.widget-view+json": {
       "model_id": "220243deb8be41a6be229bd40b8823d7",
       "version_major": 2,
       "version_minor": 0
      },
      "text/plain": [
       "VBox(children=(HTML(value=\"<b><font color='blue'>Etape n°1 : Sélectionner un fichier .txt et attendre que le 0…"
      ]
     },
     "metadata": {},
     "output_type": "display_data"
    }
   ],
   "source": [
    "tab = widgets.Tab()    \n",
    "out = widgets.Output(layout={'border': '1px solid black'})\n",
    "up = widgets.FileUpload(accept=\".txt\", multiple=False)\n",
    "delim = widgets.Dropdown(\n",
    "    options=[('point-virgule',';'),('espace',' '), ('tabulation','\\t')],\n",
    "    #description='Séparateur des données : ',\n",
    "    disabled=False)\n",
    "rows = widgets.IntSlider(\n",
    "    value=3,\n",
    "    min=0,\n",
    "    max=10,\n",
    "    step=1,\n",
    "    #description='Nombre de lignes à supprimer :',\n",
    "    disabled=False,\n",
    "    continuous_update=False,\n",
    "    orientation='horizontal',\n",
    "    readout=True,\n",
    "    readout_format='d')\n",
    "button_preview = widgets.Button(\n",
    "    description='Aperçu',\n",
    "    disabled=False,\n",
    "    button_style='info',\n",
    "    tooltip='Cliquer pour voir',\n",
    "    icon='search')\n",
    "\n",
    "button_preview.on_click(preview_clicked)\n",
    "\n",
    "widgets.VBox([\n",
    "    widgets.HTML(value = f\"<b><font color='blue'>Etape n°1 : Sélectionner un fichier .txt et attendre que le 0 disparaisse</b>\"),\n",
    "    up,\n",
    "    widgets.HTML(value = f\"<b><font color='blue'>Etape n°2 : Si besoin, changer les paramètres d'importation</b>\"),\n",
    "    widgets.HBox([widgets.Label('Séparateur des données :'),delim]),\n",
    "    widgets.HBox([widgets.Label('Nombre de lignes à supprimer :'),rows]),\n",
    "    widgets.HTML(value = f\"<b><font color='blue'>Etape n°3 : Cliquer sur Aperçu pour vérifier les paramètres</b>\"),\n",
    "    button_preview,\n",
    "    out])"
   ]
  },
  {
   "cell_type": "code",
   "execution_count": 20,
   "metadata": {},
   "outputs": [
    {
     "name": "stdout",
     "output_type": "stream",
     "text": [
      "\n",
      " --------Le fichier Pointage_bille_acier.txt a bien été importé.-------- \n",
      "\n",
      "[0.0, 0.04, 0.08, 0.12, 0.16, 0.2, 0.24, 0.28, 0.32, 0.36, 0.4, 0.44, 0.48, 0.52, 0.56, 0.6, 0.64, 0.68]\n"
     ]
    }
   ],
   "source": [
    "t,x,y=upload()\n",
    "print(t)"
   ]
  },
  {
   "cell_type": "code",
   "execution_count": null,
   "metadata": {},
   "outputs": [],
   "source": [
    "from ipywidgets import Layout, Button, Box, FloatText, Textarea, Dropdown, Label, IntSlider\n",
    "\n",
    "form_item_layout = Layout(\n",
    "    display='flex',\n",
    "    flex_flow='row',\n",
    "    justify_content='space-between'\n",
    ")\n",
    "\n",
    "form_items = [\n",
    "    Box([Label(value='Age of the captain'), IntSlider(min=40, max=60)], layout=form_item_layout),\n",
    "    Box([Label(value='Egg style'),\n",
    "         Dropdown(options=['Scrambled', 'Sunny side up', 'Over easy'])], layout=form_item_layout),\n",
    "    Box([Label(value='Ship size'),\n",
    "         FloatText()], layout=form_item_layout),\n",
    "    Box([Label(value='Information'),\n",
    "         Textarea()], layout=form_item_layout)\n",
    "]\n",
    "\n",
    "form = Box(form_items, layout=Layout(\n",
    "    display='flex',\n",
    "    flex_flow='column',\n",
    "    border='solid 2px',\n",
    "    align_items='stretch',\n",
    "    width='50%'\n",
    "))\n",
    "form"
   ]
  },
  {
   "cell_type": "markdown",
   "metadata": {},
   "source": [
    "# Regressi pour Sophie"
   ]
  },
  {
   "cell_type": "code",
   "execution_count": null,
   "metadata": {},
   "outputs": [],
   "source": [
    "import ipywidgets as widgets\n",
    "import pandas as pd\n",
    "import sys\n",
    "from io import StringIO\n",
    "import numpy as np\n",
    "import matplotlib.pyplot as plt\n",
    "%matplotlib inline"
   ]
  },
  {
   "cell_type": "code",
   "execution_count": null,
   "metadata": {},
   "outputs": [],
   "source": [
    "def content_parser():\n",
    "    if up.value == {}:\n",
    "        with out:\n",
    "            print('No CSV loaded')    \n",
    "    else:\n",
    "        typ, content = \"\", \"\"\n",
    "        up_value = up.value\n",
    "        for i in up_value.keys():\n",
    "            typ = up_value[i][\"metadata\"][\"type\"]\n",
    "            if typ == \"text/plain\":\n",
    "                content = up_value[i][\"content\"]\n",
    "                content_str = str(content, 'utf-8')\n",
    "    \n",
    "            if eraser.value != {}: \n",
    "                for val in eraser.value:\n",
    "                    if val == \"tab\":\n",
    "                        content_str = content_str.replace(\"\\t\",\"\")\n",
    "                    else:\n",
    "                        content_str = content_str.replace(val,\"\")\n",
    "            if content_str != \"\":\n",
    "                str_io = StringIO(content_str) \n",
    "                return str_io\n",
    "def df_converter():\n",
    "    content = content_parser()\n",
    "    if content is not None:\n",
    "        df = pd.read_csv(content, sep=delim.value, index_col=False, skiprows=1)    \n",
    "        return df\n",
    "    else:\n",
    "        return None\n",
    "def preview():\n",
    "    df = df_converter()\n",
    "    with out:\n",
    "        out.clear_output()\n",
    "        print('\\n -----Now this is how your DF looks like:----- \\n')\n",
    "        if df is not None:\n",
    "            print(df.head(10))\n",
    "        else:\n",
    "            print('Configuration is wrong/missing...')\n",
    "def upload():\n",
    "    df = df_converter()\n",
    "    with out:\n",
    "        out.clear_output()\n",
    "        print('\\n --------Your uploaded DF looks like:-------- \\n')\n",
    "        if df is not None:\n",
    "            print(df)\n",
    "            x_axis.options = df.columns\n",
    "            y_axis.options = df.columns\n",
    "        else:\n",
    "            print('Configuration is wrong/missing...')\n",
    "def desc():\n",
    "    info_level = toggle.value\n",
    "    if info_level != {}:\n",
    "        df = df_converter()\n",
    "        with out:\n",
    "            out.clear_output()\n",
    "            print('\\n ------Your {} looks like:------ \\n'.format(\n",
    "                info_level))\n",
    "            if df is not None:\n",
    "                if info_level == 'Info  ':\n",
    "                    print(df.info(verbose=True))\n",
    "                elif info_level == 'Stats  ':\n",
    "                    print(df.describe())\n",
    "                elif info_level == 'Preview  ':\n",
    "                    print(df.head(5))\n",
    "                else:\n",
    "                    print('Configuration is wrong/missing...')\n",
    "    \n",
    "    \n",
    "def plot():\n",
    "    graph = graph_type.value\n",
    "    if graph != {}:\n",
    "        df = df_converter()\n",
    "        with out:\n",
    "            out.clear_output()\n",
    "            print('\\n ------Your {} looks like:------ \\n'.format(\n",
    "                graph))\n",
    "            if (df is not None):\n",
    "                df = df.head(5)\n",
    "                height = df[y_axis.value]\n",
    "                bars = df[x_axis.value]\n",
    "                y_pos = np.arange(len(height))\n",
    "                plt.figure(figsize=(10,4))\n",
    "                if graph == 'Bar Chart':\n",
    "                    plt.bar(\n",
    "                        y_pos, \n",
    "                        height, \n",
    "                        color=color_picker.value)\n",
    "                    plt.xticks(y_pos, bars)\n",
    "                elif graph == 'Line Chart':\n",
    "                    plt.plot(\n",
    "                        bars,\n",
    "                        height, \n",
    "                        color=color_picker.value,\n",
    "                        marker='o', \n",
    "                        linestyle='solid'\n",
    "                    )\n",
    "                    plt.xticks(bars)\n",
    "                plt.show()\n",
    "                \n",
    "def preview_clicked(b):\n",
    "    preview()\n",
    "def upload_clicked(b):\n",
    "    upload()\n",
    "def desc_clicked(b):\n",
    "    desc()\n",
    "def plotter_clicked(b):\n",
    "    plot()\n",
    "    \n"
   ]
  },
  {
   "cell_type": "code",
   "execution_count": null,
   "metadata": {
    "scrolled": false
   },
   "outputs": [],
   "source": [
    "tab = widgets.Tab()    \n",
    "out = widgets.Output(layout={'border': '1px solid black'})\n",
    "up = widgets.FileUpload(accept=\"\", multiple=False)\n",
    "delim = widgets.RadioButtons(\n",
    "    options=[';', ',', ' '],\n",
    "    description='Separator: ',\n",
    "    disabled=False)\n",
    "eraser = widgets.SelectMultiple(\n",
    "    options=['tab','\"'],\n",
    "    value=['tab'],\n",
    "    #rows=10,\n",
    "    description='Eraser: ',\n",
    "    disabled=False)\n",
    "button_upload = widgets.Button(\n",
    "    description='Upload',\n",
    "    disabled=False,\n",
    "    button_style='warning',\n",
    "    tooltip='Click to Upload',\n",
    "    icon='check')\n",
    "button_preview = widgets.Button(\n",
    "    description='Preview',\n",
    "    disabled=False,\n",
    "    button_style='info',\n",
    "    tooltip='Click to Preview',\n",
    "    icon='search')\n",
    "button_plot = widgets.Button(\n",
    "    description='Plot',\n",
    "    disabled=False,\n",
    "    button_style='danger',\n",
    "    tooltip='Click to Plot',\n",
    "    icon='pencil')\n",
    "graph_type = widgets.Dropdown(\n",
    "    options=['Bar Chart', 'Line Chart'],\n",
    "    value='Bar Chart',\n",
    "    description='Chart Type:',\n",
    "    disabled=False)\n",
    "x_axis = widgets.Dropdown(\n",
    "    options=[''],\n",
    "    value='',\n",
    "    description='X-Axis:',\n",
    "    disabled=False)\n",
    "y_axis = widgets.Dropdown(\n",
    "    options=[''],\n",
    "    value='',\n",
    "    description='Y-Axis:',\n",
    "    disabled=False)\n",
    "color_picker = widgets.ColorPicker(\n",
    "    concise=False,\n",
    "    description='Color Picker: ',\n",
    "    value='lightblue',\n",
    "    disabled=False)\n",
    "toggle = widgets.ToggleButtons(\n",
    "    options=['Preview  ', 'Info  ', 'Stats  '],\n",
    "    description='Options',\n",
    "    disabled=False,\n",
    "    button_style='warning',\n",
    "    icons=['search', 'info', 'tachometer'])\n",
    "\n",
    "button_preview.on_click(preview_clicked)\n",
    "button_upload.on_click(upload_clicked)\n",
    "toggle.observe(desc_clicked, 'value')\n",
    "button_plot.on_click(plotter_clicked)\n",
    "\n",
    "accordion = widgets.Accordion(children=[\n",
    "    up, \n",
    "    widgets.VBox([delim, eraser])])\n",
    "accordion.set_title(0, 'File Selection')\n",
    "accordion.set_title(1, 'Delimiter')\n",
    "accordion_box = widgets.VBox([\n",
    "    accordion, \n",
    "    widgets.HBox([button_preview, button_upload]),\n",
    "    out\n",
    "])\n",
    "children = [\n",
    "    accordion_box, \n",
    "    widgets.VBox([toggle, out]),\n",
    "    widgets.VBox([\n",
    "        widgets.HBox([graph_type, color_picker]),\n",
    "        widgets.HBox([x_axis, y_axis]), \n",
    "        button_plot,\n",
    "        out\n",
    "])]\n",
    "tab.children = children\n",
    "tab.set_title(0, \"Upload\")\n",
    "tab.set_title(1, \"Describer\")\n",
    "tab.set_title(2, \"Plotter\")\n",
    "tab"
   ]
  },
  {
   "cell_type": "markdown",
   "metadata": {},
   "source": [
    "# Intégration d'une vidéo YouTube"
   ]
  },
  {
   "cell_type": "code",
   "execution_count": 1,
   "metadata": {},
   "outputs": [],
   "source": [
    "import ipywidgets as widgets"
   ]
  },
  {
   "cell_type": "code",
   "execution_count": 2,
   "metadata": {},
   "outputs": [
    {
     "data": {
      "application/vnd.jupyter.widget-view+json": {
       "model_id": "9b31d23343104f04ad709002cd4f5e1c",
       "version_major": 2,
       "version_minor": 0
      },
      "text/plain": [
       "Output(layout=Layout(border='1px solid black'))"
      ]
     },
     "metadata": {},
     "output_type": "display_data"
    }
   ],
   "source": [
    "out = widgets.Output(layout={'border': '1px solid black'})\n",
    "out"
   ]
  },
  {
   "cell_type": "code",
   "execution_count": 3,
   "metadata": {},
   "outputs": [],
   "source": [
    "from IPython.display import YouTubeVideo\n",
    "with out:\n",
    "    display(YouTubeVideo('eWzY2nGfkXk'))"
   ]
  },
  {
   "cell_type": "code",
   "execution_count": null,
   "metadata": {},
   "outputs": [],
   "source": [
    "with out:\n",
    "    display(widgets.IntSlider())"
   ]
  },
  {
   "cell_type": "code",
   "execution_count": 4,
   "metadata": {},
   "outputs": [
    {
     "data": {
      "application/vnd.jupyter.widget-view+json": {
       "model_id": "8454f52debcf46c4ac4b89e397c5258a",
       "version_major": 2,
       "version_minor": 0
      },
      "text/plain": [
       "Output(layout=Layout(border='1px solid black'), outputs=({'output_type': 'stream', 'name': 'stdout', 'text': '…"
      ]
     },
     "metadata": {},
     "output_type": "display_data"
    }
   ],
   "source": [
    "out = widgets.Output(layout={'border': '1px solid black'})\n",
    "out.append_stdout('Output appended with append_stdout')\n",
    "out.append_display_data(YouTubeVideo('eWzY2nGfkXk'))\n",
    "out"
   ]
  },
  {
   "cell_type": "code",
   "execution_count": null,
   "metadata": {},
   "outputs": [],
   "source": []
  }
 ],
 "metadata": {
  "kernelspec": {
   "display_name": "Python 3",
   "language": "python",
   "name": "python3"
  },
  "language_info": {
   "codemirror_mode": {
    "name": "ipython",
    "version": 3
   },
   "file_extension": ".py",
   "mimetype": "text/x-python",
   "name": "python",
   "nbconvert_exporter": "python",
   "pygments_lexer": "ipython3",
   "version": "3.7.6"
  }
 },
 "nbformat": 4,
 "nbformat_minor": 4
}
