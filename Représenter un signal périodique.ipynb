{
 "cells": [
  {
   "cell_type": "markdown",
   "metadata": {},
   "source": [
    "## Génération des coordonnées d'un signal périodique"
   ]
  },
  {
   "cell_type": "code",
   "execution_count": null,
   "metadata": {},
   "outputs": [],
   "source": [
    "from math import pi, sin\n",
    "\n",
    "\"\"\"\n",
    "Fonction générant les coordonnées du signal sinusoïdal s(t) à partir des paramètres choisis par l'utilisateur\n",
    "Entrées : amplitude A (en UA), période T (en s), durée maximal t_max (en s)\n",
    "Résultat : ensemble sous forme d'une liste des coordonnées des points formant le signal sinusoïdal\n",
    "\"\"\"\n",
    "def signal_t(A,T,t_max):\n",
    "    t=[]                                     # Création d'une liste vide pour le temps en s\n",
    "    s=[]                                     # Création d'une liste vide pour l'image de la fonction sinusoïdale s(t) en UA\n",
    "    points=1000                              # 1 000 couples de coordonnées\n",
    "    for i in range(points):                  # Boucle pour compléter les listes\n",
    "        t.append(i*t_max/points)             # Ajout du temps en s commençant à t = 0 s\n",
    "        s.append(A*sin(2*pi/T*t[i]+pi/2))    # Ajout de l'image de la fonction sinusoïdale s(t) avec un déphasage de + π/2\n",
    "    return [t,s]                             # Renvoie une liste des listes temps et image de la fonction sinusoïdale s(t)"
   ]
  },
  {
   "cell_type": "code",
   "execution_count": null,
   "metadata": {},
   "outputs": [],
   "source": [
    "A1 = ---A COMPLETER---         # Amplitude en UA\n",
    "T1 = ---A COMPLETER---         # Période en s\n",
    "t_max = ---A COMPLETER---      # Durée maximale en s (valeur entière)\n",
    "\n",
    "'''Exemple\n",
    "A1=1.8\n",
    "T1=2.4\n",
    "t_max=10'''\n",
    "\n",
    "t,s1=signal_t(A1,T1,t_max)"
   ]
  },
  {
   "cell_type": "markdown",
   "metadata": {
    "collapsed": true
   },
   "source": [
    "## Représentation du signal périodique"
   ]
  },
  {
   "cell_type": "code",
   "execution_count": null,
   "metadata": {},
   "outputs": [],
   "source": [
    "import matplotlib.pyplot as plt\n",
    "\"\"\"\n",
    "Fonction générant la représentation graphique amplitude d'un signal périodique en fonction du temps\n",
    "Entrées : coordonnées des abscisses,\n",
    "        coordonnées des ordonnées,\n",
    "        couleur de la représentation ('red', 'blue', 'green', 'cyan', 'magenta', 'yellow', 'black')\n",
    "Résultat : représentation du signal périodique \"amplitude en fonction du temps\" ou \"amplitude = f(temps)\"\"\n",
    "\"\"\"\n",
    "def graphe_signal(abscisses,ordonnees,couleur):\n",
    "    plt.plot(abscisses, ordonnees,color=couleur)"
   ]
  },
  {
   "cell_type": "code",
   "execution_count": null,
   "metadata": {
    "scrolled": false
   },
   "outputs": [],
   "source": [
    "graphe_signal(---A COMPLETER---)\n",
    "\n",
    "'''Exemple\n",
    "graphe_signal(t,s1,'red')'''\n",
    "\n",
    "\"\"\"\n",
    "Paramètres de la réprésentation\n",
    "\"\"\"\n",
    "plt.rcParams['figure.figsize'] = [10, 10]         # taille de l'affichage du graphique\n",
    "plt.title('Représentation du signal périodique')  # titre du graphe\n",
    "plt.xlabel('temps (en s)')                        # légende axe des abscisses\n",
    "plt.ylabel('amplitude (en UA)')                   # légende axe des ordonnées\n",
    "plt.xlim(0,t_max)                                 # bornes de l'axe des abscisses\n",
    "plt.grid()                                        # affiche une grille\n",
    "plt.linestyle='-'                                 # style de ligne de la représentation ('-' ou '--' ou '-.')\n",
    "plt.linewidth=1.0                                 # épaisseur de la ligne\n",
    "plt.legend([\"A1 = {:.1f} m et T1 = {:.1f} s\".format(A1,T1)],loc='upper right')  \n",
    "                                                  # affiche en légende A1 et T1 avec un chiffre après la virgule\n",
    "                                                  # affiche la légende en haut à droite\n",
    "\n",
    "\n",
    "plt.show()"
   ]
  },
  {
   "cell_type": "code",
   "execution_count": null,
   "metadata": {},
   "outputs": [],
   "source": []
  }
 ],
 "metadata": {
  "kernelspec": {
   "display_name": "Python 3",
   "language": "python",
   "name": "python3"
  },
  "language_info": {
   "codemirror_mode": {
    "name": "ipython",
    "version": 3
   },
   "file_extension": ".py",
   "mimetype": "text/x-python",
   "name": "python",
   "nbconvert_exporter": "python",
   "pygments_lexer": "ipython3",
   "version": "3.7.6"
  }
 },
 "nbformat": 4,
 "nbformat_minor": 2
}
