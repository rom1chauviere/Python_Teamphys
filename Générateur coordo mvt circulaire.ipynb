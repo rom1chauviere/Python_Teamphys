{
 "cells": [
  {
   "cell_type": "markdown",
   "metadata": {},
   "source": [
    "## Génération des coordonnées d'un mouvement circulaire"
   ]
  },
  {
   "cell_type": "code",
   "execution_count": 1,
   "metadata": {},
   "outputs": [],
   "source": [
    "from math import cos, sin, pi\n",
    "\n",
    "\"\"\"\n",
    "Fonction générant un tableau de coordonnées t, x et y pour un mouvement circulaire uniforme (sens trigo)\n",
    "Entrées : xo du centre O,\n",
    "        yo du centre O,\n",
    "        rayon,\n",
    "        angle de départ,\n",
    "        norme de v0,\n",
    "        date t maximale,\n",
    "        nombre souhaité de coordonnées\n",
    "Résultat : liste contenant la liste de tous les t (en s), la liste de tous les x (en m) et la liste de tous les y (en m).\n",
    "\"\"\"\n",
    "def modele_circulaire(xo,yo,r,alpha,v0,tmax,nb_points):\n",
    "    dt=tmax/(nb_points-1)\n",
    "    w=v0/r\n",
    "    x=[round(xo+r*cos(pi*alpha/180),3)]\n",
    "    y=[round(yo+r*sin(pi*alpha/180),3)]\n",
    "    t=[0]\n",
    "    for i in range(nb_points-1):\n",
    "        t.append(round(t[-1]+dt,3))\n",
    "        x.append(round(xo+r*cos(w*t[-1]+pi*alpha/180),3))\n",
    "        y.append(round(yo+r*sin(w*t[-1]+pi*alpha/180),3))\n",
    "    return [t, x, y]\n"
   ]
  },
  {
   "cell_type": "code",
   "execution_count": 6,
   "metadata": {},
   "outputs": [],
   "source": [
    "#t,x,y=modele_circulaire(---A COMPLETER---)\n",
    "\n",
    "'''Exemple'''\n",
    "t,x,y=modele_circulaire(0,0,0.35,185,2.4,0.8,19)"
   ]
  },
  {
   "cell_type": "markdown",
   "metadata": {
    "collapsed": true
   },
   "source": [
    "<div class=\"alert alert-success\" role=\"alert\">\n",
    "On vérifie visuellement si cela correspond à notre souhait.\n",
    "</div>"
   ]
  },
  {
   "cell_type": "code",
   "execution_count": 7,
   "metadata": {},
   "outputs": [
    {
     "data": {
      "image/png": "[encoded data removed]",
      "text/plain": [
       "<Figure size 720x720 with 1 Axes>"
      ]
     },
     "metadata": {
      "needs_background": "light"
     },
     "output_type": "display_data"
    }
   ],
   "source": [
    "import matplotlib.pyplot as plt\n",
    "\"\"\"\n",
    "Fonction générant le nuage de points \"ordonnée en fonction d'abscisse\"\n",
    "Entrées : coordonnées des abscisses, coordonnées des ordonnées, titre abscisse, titre ordonnée, titre graphique\n",
    "Résultat : nuage de points \"ordonnée en fonction d'abscisse\" ou \"ordonnée = f(abscisse)\"\n",
    "\"\"\"\n",
    "def nuagedepoints(abscisses,ordonnees,abscisse_title,ordonnee_title,title):\n",
    "    plt.rcParams['figure.figsize'] = [10, 10]\n",
    "                            # taille de l'affichage du graphique\n",
    "    plt.plot(abscisses, ordonnees, linestyle=\"none\" ,marker=\"x\" ,color=\"red\", markersize=\"10\",label=\"nuage de points\")\n",
    "                            # nuage de points,'none' points non reliés,'x' forme des points (o,-,+,s)\n",
    "                            # 'red' couleur (blue, green, cyan, magenta, yellow, black)\n",
    "                            # '10' taille des points\n",
    "                            # affiche la légende\n",
    "    plt.axis('equal')       # repère orthonormé\n",
    "    plt.xlabel(abscisse_title)      # légende axe des abscisses\n",
    "    plt.ylabel(ordonnee_title)      # légende axe des ordonnées\n",
    "    plt.title(title)        # affiche un titre\n",
    "    \n",
    "nuagedepoints(x,y,'x (en m)','y (en m)','Tracé de la trajectoire y = f(x)')\n",
    "plt.show()"
   ]
  },
  {
   "cell_type": "markdown",
   "metadata": {},
   "source": [
    "<div class=\"alert alert-success\" role=\"alert\">\n",
    "Si cela vous convient, nous allons enregistrer les coordonnées dans le fichier coordonnees_mouvement_circulaire.txt présent dans le même dossier que le notebook.\n",
    "</div>"
   ]
  },
  {
   "cell_type": "code",
   "execution_count": 8,
   "metadata": {},
   "outputs": [
    {
     "name": "stdout",
     "output_type": "stream",
     "text": [
      "Le fichier coordonnees_mouvement_circulaire.txt a bien été modifié.\n"
     ]
    }
   ],
   "source": [
    "\"\"\"\n",
    "Fonction écrivant les coordonnées t, x et y dans un fichier .txt déjà EXISTANT\n",
    "(avec le point-virgule comme séparateur entre les données)\n",
    "Entrées : tableau de valeurs t, x et y, nom du fichier\n",
    "Résultat : le fichier est modifié (suppression du contenu précédent) avec les coordonnées t (en s), x (en m) et y (en m)\n",
    "\"\"\"\n",
    "def modification_fichier(t,x,y,name):\n",
    "    sep=\";\"\n",
    "    f = open(name,\"w\") # r= read, w = write\n",
    "    data=[[\"Pointages AviMeca\"],[\"t;x;y\"],[\"(s);(m);(m)\"]] # on initialise le tableau des données avec les en-têtes d'un fichier semblant provenir d'Aviméca\n",
    "    l=len(t) # nombre de lignes du tableau\n",
    "    for i in range(l):\n",
    "        data.append([str(t[i]),str(x[i]),str(y[i])]) # on convertit les valeurs en texte que l'on ajoute sous d'une liste\n",
    "\n",
    "    for valeur in data:\n",
    "        ligne = sep.join(valeur) + \"\\n\"\n",
    "        ligne = ligne.replace(\".\" , \",\") #change les points en virgule => format numérique différent sur python et sur Regressi ou tableur\n",
    "        f.write(ligne)\n",
    "    f.close() #on referme le fichier\n",
    "    print(\"Le fichier\",name,\"a bien été modifié.\")\n",
    "\n",
    "modification_fichier(t,x,y,\"coordonnees_mouvement_circulaire.txt\")"
   ]
  },
  {
   "cell_type": "code",
   "execution_count": null,
   "metadata": {},
   "outputs": [],
   "source": []
  }
 ],
 "metadata": {
  "kernelspec": {
   "display_name": "Python 3",
   "language": "python",
   "name": "python3"
  },
  "language_info": {
   "codemirror_mode": {
    "name": "ipython",
    "version": 3
   },
   "file_extension": ".py",
   "mimetype": "text/x-python",
   "name": "python",
   "nbconvert_exporter": "python",
   "pygments_lexer": "ipython3",
   "version": "3.7.6"
  }
 },
 "nbformat": 4,
 "nbformat_minor": 2
}
