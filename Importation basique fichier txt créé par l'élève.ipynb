{
 "cells": [
  {
   "cell_type": "markdown",
   "metadata": {},
   "source": [
    "<div class=\"alert alert-danger\" role=\"alert\">\n",
    "<center><font size=\"5\">Les fonctions ci-dessous ne fonctionnent pas dans EduPython et l'ENT. <br>En revanche, elles fonctionnent avec Binder (et autres).</font></center>\n",
    "</div>\n",
    "\n",
    "## Réalisation du pointage\n",
    "<div class=\"alert alert-info\" role=\"alert\">Réaliser le pointage de la vidéo avec Aviméca à l'aide du tutoriel vidéo : sur la tablette ou <a href=\"https://youtu.be/yKxFSXpi3SA\">sur Youtube</a></div><br>"
   ]
  },
  {
   "cell_type": "code",
   "execution_count": null,
   "metadata": {},
   "outputs": [],
   "source": [
    "'''Affiche directement la vidéo dans le notebook'''\n",
    "import ipywidgets as widgets\n",
    "from IPython.display import YouTubeVideo\n",
    "out = widgets.Output(layout={'border': '1px solid black'})\n",
    "out.append_display_data(YouTubeVideo('yKxFSXpi3SA'))\n",
    "out"
   ]
  },
  {
   "cell_type": "markdown",
   "metadata": {},
   "source": [
    "<div class=\"alert alert-info\" role=\"alert\">Enregistrer le tableau de mesures : Fichier > Mesures > Enregistrer dans un fichier > Format texte (.txt)<br>\n",
    "Choisir \"Point virgule\" comme séparateur des données</div><br>\n",
    "\n",
    "## Importation des mesures"
   ]
  },
  {
   "cell_type": "code",
   "execution_count": null,
   "metadata": {},
   "outputs": [],
   "source": [
    "\"\"\"\n",
    "Fonction important les coordonnées t, x et y depuis un fichier .txt provenant d'Aviméca\n",
    "(avec le point-virgule comme séparateur entre les données) préalablement uploadé \n",
    "Entrées : aucune\n",
    "Résultat : liste contenant la liste de tous les t (en s), la liste de tous les x (en m) et la liste de tous les y (en m)\n",
    "\"\"\"\n",
    "def import_avimeca():\n",
    "    if uploader.value=={}:\n",
    "        print(\"\\n Aucun fichier n'est uplaodé. L'importation est annulée. \\n Utiliser le bouton Upload ci-dessus puis exécuter à nouveau ce bloc.\")\n",
    "    else :        \n",
    "        sep=\";\" # séparateur entre les données\n",
    "        entete = 3 # nombre de lignes d'entete\n",
    "        [uploaded_file] = uploader.value # stocke le nom du fichier uplaodé\n",
    "        content = uploader.value[uploaded_file][\"content\"] # stocke les valeurs contenues dans le fichier uplaodé\n",
    "        content_str = str(content, 'ansi') # convertit et décode les valeurs en texte\n",
    "        data=content_str.split() # stocke les valeurs dans une liste\n",
    "        data = data[ entete+1 : ] # supprime les lignes d'en-tête qui ne nous intéressent pas\n",
    "\n",
    "        # Constuction des listes de valeurs utiles\n",
    "        t = []\n",
    "        x = []\n",
    "        y = []\n",
    "        for ligne in data:\n",
    "            ligne = ligne.replace(\",\" , \".\") # change les virgules en point => format numérique différent sur aviméca et sur python\n",
    "            ligne = ligne.strip().split(sep) # sépare les différents élément en utilisant le caractère séparateur défini\n",
    "            ligne = list(map(float,ligne)) # convertit chaque élément en nombre décimal (float)\n",
    "            # Stockage des valeurs dans les listes adaptées\n",
    "            t.append(ligne[0])\n",
    "            x.append(ligne[1])\n",
    "            y.append(ligne[2])\n",
    "        print(\"Le fichier\",uploaded_file, \"a bien été importé.\")\n",
    "        return [t,x,y]\n",
    "\n",
    "from ipywidgets import FileUpload, HTML\n",
    "\n",
    "uploader=FileUpload(\n",
    "    accept='.txt',  # accepte de préférence les fichiers .txt\n",
    "    multiple=False  # accepte un seul fichier\n",
    ")\n",
    "aide=HTML(value = f\"<b><font color='blue'>Sélectionner un fichier .txt provenant d'Aviméca et attendre que le 0 disparaisse</b>\")\n",
    "display(aide,uploader) # affiche le bouton \"Upload\" pour choisir le fichier à uploader"
   ]
  },
  {
   "cell_type": "code",
   "execution_count": null,
   "metadata": {},
   "outputs": [],
   "source": [
    "t,x,y = import_avimeca()"
   ]
  },
  {
   "cell_type": "markdown",
   "metadata": {},
   "source": [
    "<div class=\"alert alert-success\" role=\"alert\">\n",
    "Il faut maintenant comprendre comment les informations sont stockées.\n",
    "</div>"
   ]
  },
  {
   "cell_type": "code",
   "execution_count": null,
   "metadata": {},
   "outputs": [],
   "source": [
    "print(t)"
   ]
  },
  {
   "cell_type": "code",
   "execution_count": null,
   "metadata": {},
   "outputs": [],
   "source": [
    "print(x)"
   ]
  },
  {
   "cell_type": "code",
   "execution_count": null,
   "metadata": {},
   "outputs": [],
   "source": [
    "print(y)"
   ]
  },
  {
   "cell_type": "code",
   "execution_count": null,
   "metadata": {},
   "outputs": [],
   "source": [
    "print(\"Coordonnées du premier point :\",t[0],x[0],y[0])"
   ]
  },
  {
   "cell_type": "code",
   "execution_count": null,
   "metadata": {},
   "outputs": [],
   "source": [
    "print(\"Coordonnées du dernier point :\",t[-1],x[-1],y[-1])"
   ]
  }
 ],
 "metadata": {
  "kernelspec": {
   "display_name": "Python 3",
   "language": "python",
   "name": "python3"
  },
  "language_info": {
   "codemirror_mode": {
    "name": "ipython",
    "version": 3
   },
   "file_extension": ".py",
   "mimetype": "text/x-python",
   "name": "python",
   "nbconvert_exporter": "python",
   "pygments_lexer": "ipython3",
   "version": "3.7.6"
  }
 },
 "nbformat": 4,
 "nbformat_minor": 4
}
