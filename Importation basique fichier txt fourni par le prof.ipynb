{
 "cells": [
  {
   "cell_type": "markdown",
   "metadata": {},
   "source": [
    "## Importation des mesures\n",
    "<div class=\"alert alert-danger\" role=\"alert\">\n",
    "<center><font size=\"5\">La fonction ci-dessous doit fonctionner partout.</font><br>Si vous avez l'erreur \"'utf-8' codec can't decode byte...\", ouvrez le fichier .txt et supprimez tous les caractères accentués.</center>\n",
    "</div>"
   ]
  },
  {
   "cell_type": "code",
   "execution_count": null,
   "metadata": {},
   "outputs": [],
   "source": [
    "\"\"\"\n",
    "Fonction important les coordonnées t, x et y depuis un fichier .txt \n",
    "(avec le point-virgule comme séparateur entre les données)\n",
    "Le fichier .txt doit être dans le même dossier que le notebook\n",
    "Entrées : nom du fichier avec l'extension\n",
    "Résultat : liste contenant la liste de tous les t (en s), la liste de tous les x (en m) et la liste de tous les y (en m)\n",
    "\"\"\"\n",
    "def import_avimeca(name):\n",
    "    sep=\";\" # séparateur entre les données\n",
    "    entete = 3 #nombre de lignes d'entete\n",
    "    f=open(name,\"r\")\n",
    "    data = f.readlines() #on lit toutes les lignes et on met ça dans une liste -un élément par ligne-\n",
    "\n",
    "    data = data[ entete : ] #on supprime les lignes d'en-tête qui ne nous intéressent pas\n",
    "\n",
    "    #on construit les listes de valeurs utiles\n",
    "    t = []\n",
    "    x = []\n",
    "    y = []\n",
    "    for ligne in data:\n",
    "        ligne = ligne.replace(\",\" , \".\") #change les virgules en point => format numérique différent sur aviméca et sur python\n",
    "        ligne = ligne.strip().split(sep) #on sépare les différents élément en utilisant le caractère séparateur défini\n",
    "        ligne = list(map(float,ligne)) #on convertit chaque élément en float\n",
    "        #on rentre les valeurs dans les listes adaptées\n",
    "        t.append(ligne[0])\n",
    "        x.append(ligne[1])\n",
    "        y.append(ligne[2])\n",
    "    print(\"Le fichier\",name, \"a bien été importé.\")\n",
    "    return [t,x,y]"
   ]
  },
  {
   "cell_type": "code",
   "execution_count": null,
   "metadata": {},
   "outputs": [],
   "source": [
    "t,x,y = import_avimeca(\"Fichier aviméca_point-virgule.txt\")\n",
    "#t,x,y = import_avimeca(\"coordonnees_mouvement_parabolique.txt\")\n",
    "#t,x,y = import_avimeca(\"coordonnees_mouvement_circulaire.txt\")\n",
    "#t,x,y = import_avimeca(\"coordonnees_mouvement_elliptique.txt\")"
   ]
  },
  {
   "cell_type": "markdown",
   "metadata": {},
   "source": [
    "<div class=\"alert alert-success\" role=\"alert\">\n",
    "Il faut maintenant comprendre comment les informations sont stockées.\n",
    "</div>"
   ]
  },
  {
   "cell_type": "code",
   "execution_count": null,
   "metadata": {},
   "outputs": [],
   "source": [
    "print(t)"
   ]
  },
  {
   "cell_type": "code",
   "execution_count": null,
   "metadata": {},
   "outputs": [],
   "source": [
    "print(x)"
   ]
  },
  {
   "cell_type": "code",
   "execution_count": null,
   "metadata": {},
   "outputs": [],
   "source": [
    "print(y)"
   ]
  },
  {
   "cell_type": "code",
   "execution_count": null,
   "metadata": {},
   "outputs": [],
   "source": [
    "print(\"Coordonnées du premier point :\",t[0],x[0],y[0])"
   ]
  },
  {
   "cell_type": "code",
   "execution_count": null,
   "metadata": {},
   "outputs": [],
   "source": [
    "print(\"Coordonnées du dernier point :\",t[-1],x[-1],y[-1])"
   ]
  }
 ],
 "metadata": {
  "kernelspec": {
   "display_name": "Python 3",
   "language": "python",
   "name": "python3"
  },
  "language_info": {
   "codemirror_mode": {
    "name": "ipython",
    "version": 3
   },
   "file_extension": ".py",
   "mimetype": "text/x-python",
   "name": "python",
   "nbconvert_exporter": "python",
   "pygments_lexer": "ipython3",
   "version": "3.7.6"
  }
 },
 "nbformat": 4,
 "nbformat_minor": 4
}
