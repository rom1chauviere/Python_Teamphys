{
 "cells": [
  {
   "cell_type": "markdown",
   "metadata": {},
   "source": [
    "## Génération des coordonnées d'un mouvement parabolique"
   ]
  },
  {
   "cell_type": "code",
   "execution_count": null,
   "metadata": {},
   "outputs": [],
   "source": [
    "from math import cos, sin, pi\n",
    "\n",
    "\"\"\"\n",
    "Fonction générant un tableau de coordonnées t, x et y pour un mouvement dans un champ de pesanteur verticale\n",
    "Entrées : x à t=0s,\n",
    "        y à t=0s,\n",
    "        norme de v0,\n",
    "        angle alpha entre l'horizontal et le vecteur v0,\n",
    "        date t maximale,\n",
    "        nombre souhaité de coordonnées\n",
    "Résultat : liste contenant la liste de tous les t (en s), la liste de tous les x (en m) et la liste de tous les y (en m).\n",
    "\"\"\"\n",
    "def modele_parabole(x0,y0,v0,alpha,tmax,nb_points):\n",
    "    g=9.81\n",
    "    dt=tmax/(nb_points-1)\n",
    "    x=[x0]\n",
    "    y=[y0]\n",
    "    t=[0]\n",
    "    for i in range(nb_points-1):\n",
    "        t.append(round(t[-1]+dt,3))\n",
    "        x.append(round(v0*cos(pi*alpha/180)*t[-1]+x0,3))\n",
    "        y.append(round(-0.5*g*(t[-1])**2+v0*sin(pi*alpha/180)*t[-1]+y0,3))\n",
    "    return [t, x, y]"
   ]
  },
  {
   "cell_type": "code",
   "execution_count": null,
   "metadata": {},
   "outputs": [],
   "source": [
    "t,x,y=modele_parabole(---A COMPLETER---)\n",
    "\n",
    "'''Exemple'''\n",
    "#t,x,y=modele_parabole(0,2.35,11.36,45,1.5,16)"
   ]
  },
  {
   "cell_type": "markdown",
   "metadata": {
    "collapsed": true
   },
   "source": [
    "<div class=\"alert alert-success\" role=\"alert\">\n",
    "On vérifie visuellement si cela correspond à notre souhait.\n",
    "</div>"
   ]
  },
  {
   "cell_type": "code",
   "execution_count": null,
   "metadata": {},
   "outputs": [],
   "source": [
    "import matplotlib.pyplot as plt\n",
    "\"\"\"\n",
    "Fonction générant le nuage de points \"ordonnée en fonction d'abscisse\"\n",
    "Entrées : coordonnées des abscisses, coordonnées des ordonnées, titre abscisse, titre ordonnée, titre graphique\n",
    "Résultat : nuage de points \"ordonnée en fonction d'abscisse\" ou \"ordonnée = f(abscisse)\"\n",
    "\"\"\"\n",
    "def nuagedepoints(abscisses,ordonnees,abscisse_title,ordonnee_title,title):\n",
    "    plt.rcParams['figure.figsize'] = [10, 10]\n",
    "                            # taille de l'affichage du graphique\n",
    "    plt.plot(abscisses, ordonnees, linestyle=\"none\" ,marker=\"x\" ,color=\"red\", markersize=\"10\",label=\"nuage de points\")\n",
    "                            # nuage de points,'none' points non reliés,'x' forme des points (o,-,+,s)\n",
    "                            # 'red' couleur (blue, green, cyan, magenta, yellow, black)\n",
    "                            # '10' taille des points\n",
    "                            # affiche la légende\n",
    "    plt.axis('equal')       # repère orthonormé\n",
    "    plt.xlabel(abscisse_title)      # légende axe des abscisses\n",
    "    plt.ylabel(ordonnee_title)      # légende axe des ordonnées\n",
    "    plt.title(title)        # affiche un titre\n",
    "    \n",
    "nuagedepoints(x,y,'x (en m)','y (en m)','Tracé de la trajectoire y = f(x)')\n",
    "plt.show()"
   ]
  },
  {
   "cell_type": "markdown",
   "metadata": {},
   "source": [
    "<div class=\"alert alert-success\" role=\"alert\">\n",
    "Si cela vous convient, nous allons enregistrer les coordonnées dans le fichier coordonnees_mouvement_parabolique.txt présent dans le même dossier que le notebook.\n",
    "</div>"
   ]
  },
  {
   "cell_type": "code",
   "execution_count": null,
   "metadata": {},
   "outputs": [],
   "source": [
    "\"\"\"\n",
    "Fonction écrivant les coordonnées t, x et y dans un fichier .txt déjà EXISTANT\n",
    "(avec le point-virgule comme séparateur entre les données)\n",
    "Entrées : tableau de valeurs t, x et y, nom du fichier\n",
    "Résultat : le fichier est modifié (suppression du contenu précédent) avec les coordonnées t (en s), x (en m) et y (en m)\n",
    "\"\"\"\n",
    "def modification_fichier(t,x,y,name):\n",
    "    sep=\";\"\n",
    "    f = open(name,\"w\") # r= read, w = write\n",
    "    data=[[\"Pointages AviMeca\"],[\"t;x;y\"],[\"(s);(m);(m)\"]] # on initialise le tableau des données avec les en-têtes d'un fichier semblant provenir d'Aviméca\n",
    "    l=len(t) # nombre de lignes du tableau\n",
    "    for i in range(l):\n",
    "        data.append([str(t[i]),str(x[i]),str(y[i])]) # on convertit les valeurs en texte que l'on ajoute sous d'une liste\n",
    "\n",
    "    for valeur in data:\n",
    "        ligne = sep.join(valeur) + \"\\n\"\n",
    "        ligne = ligne.replace(\".\" , \",\") #change les points en virgule => format numérique différent sur python et sur Regressi ou tableur\n",
    "        f.write(ligne)\n",
    "    f.close() #on referme le fichier\n",
    "    print(\"Le fichier\",name,\"a bien été modifié.\")\n",
    "\n",
    "modification_fichier(t,x,y,\"coordonnees_mouvement_parabolique.txt\")"
   ]
  },
  {
   "cell_type": "code",
   "execution_count": null,
   "metadata": {},
   "outputs": [],
   "source": []
  }
 ],
 "metadata": {
  "kernelspec": {
   "display_name": "Python 3",
   "language": "python",
   "name": "python3"
  },
  "language_info": {
   "codemirror_mode": {
    "name": "ipython",
    "version": 3
   },
   "file_extension": ".py",
   "mimetype": "text/x-python",
   "name": "python",
   "nbconvert_exporter": "python",
   "pygments_lexer": "ipython3",
   "version": "3.7.6"
  }
 },
 "nbformat": 4,
 "nbformat_minor": 2
}
