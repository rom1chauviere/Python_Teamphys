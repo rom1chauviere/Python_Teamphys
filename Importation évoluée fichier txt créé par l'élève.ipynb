{
 "cells": [
  {
   "cell_type": "markdown",
   "metadata": {},
   "source": [
    "<div class=\"alert alert-danger\" role=\"alert\">\n",
    "<center><font size=\"5\">Les fonctions ci-dessous ne fonctionnent pas dans EduPython et l'ENT. <br>En revanche, elles fonctionnent avec Binder (et autres).</font></center>\n",
    "</div>\n",
    "\n",
    "## Réalisation du pointage\n",
    "<div class=\"alert alert-info\" role=\"alert\">Réaliser le pointage de la vidéo avec Aviméca à l'aide du tutoriel vidéo : sur la tablette ou <a href=\"https://youtu.be/yKxFSXpi3SA\">sur Youtube</a></div><br>"
   ]
  },
  {
   "cell_type": "code",
   "execution_count": null,
   "metadata": {},
   "outputs": [],
   "source": [
    "'''Affiche directement la vidéo dans le notebook'''\n",
    "import ipywidgets as widgets\n",
    "from IPython.display import YouTubeVideo\n",
    "out = widgets.Output(layout={'border': '1px solid black'})\n",
    "out.append_display_data(YouTubeVideo('yKxFSXpi3SA'))\n",
    "out"
   ]
  },
  {
   "cell_type": "markdown",
   "metadata": {},
   "source": [
    "<div class=\"alert alert-info\" role=\"alert\">Enregistrer le tableau de mesures : Fichier > Mesures > Enregistrer dans un fichier > Format texte (.txt)<br>\n",
    "Choisir \"Point virgule\" comme séparateur des données</div><br>\n",
    "\n",
    "## Importation des mesures\n",
    "<div class=\"alert alert-success\" role=\"alert\">\n",
    "Exécuter les deux blocs ci-dessous.<br>\n",
    "(Aucune compréhension du code n'est demandée)\n",
    "</div>"
   ]
  },
  {
   "cell_type": "code",
   "execution_count": null,
   "metadata": {},
   "outputs": [],
   "source": [
    "import ipywidgets as widgets\n",
    "\n",
    "def content_parser():\n",
    "    if up.value == {}:\n",
    "        with out:\n",
    "            print(\"Veuillez effectuer l'étape n°1\")    \n",
    "    else:\n",
    "        #content = \"\"\n",
    "        #up_value = up.value # récupère les données du fichier uplaodé dans la variable uploader\n",
    "        [uploaded_file] = up.value # récupère le nom du fichier uplaodé\n",
    "        return up.value[uploaded_file][\"content\"] # récupère les valeurs contenues dans le fichier uplaodé\n",
    "def content_converter(rows,delim):\n",
    "    content = content_parser()\n",
    "    if content is not None:\n",
    "        content_str = str(content, 'ansi') # convertit et décode les valeurs en texte\n",
    "        content_new=content_str.replace(delim , '\\t')\n",
    "        data=content_new.split('\\n') # stocke les valeurs dans une liste\n",
    "        data = data[ rows : ] # supprime les lignes d'en-tête qui ne nous intéressent pas\n",
    "        return data\n",
    "    else:\n",
    "        return None\n",
    "def preview():\n",
    "    content = content_converter(rows.value,delim.value)\n",
    "    if content is not None:\n",
    "        apercu='\\n'.join(content)\n",
    "    with out:\n",
    "        if content is not None:\n",
    "            out.clear_output()\n",
    "            print('\\n -----Voici les données extraites du fichier----- \\n')\n",
    "            print(apercu)\n",
    "            print(\"\\n -----Si l'aperçu vous convient, éxécuter le bloc suivant pour importer les données----- \\n\")\n",
    "        elif up.value == {}:\n",
    "            print('')\n",
    "        else:    \n",
    "            out.clear_output()\n",
    "            print(\"Erreur au niveau du fichier ou des paramètres d'importation\")\n",
    "def upload():\n",
    "    content = content_parser()\n",
    "    if up.value!={}:\n",
    "        content_str = str(content, 'ansi') # convertit et décode les valeurs en texte\n",
    "        data=content_str.split() # stocke les valeurs dans une liste\n",
    "        data = data[ rows.value+1 : ] # supprime les lignes d'en-tête qui ne nous intéressent pas\n",
    "\n",
    "        # Constuction des listes de valeurs utiles\n",
    "        t = []\n",
    "        x = []\n",
    "        y = []\n",
    "        for ligne in data:\n",
    "            ligne = ligne.replace(\",\" , \".\") # change les virgules en point => format numérique différent sur aviméca et sur python\n",
    "            ligne = ligne.strip().split(delim.value) # sépare les différents élément en utilisant le caractère séparateur défini\n",
    "            ligne = list(map(float,ligne)) # convertit chaque élément en nombre décimal (float)\n",
    "            # Stockage des valeurs dans les listes adaptées\n",
    "            t.append(ligne[0])\n",
    "            x.append(ligne[1])\n",
    "            y.append(ligne[2])\n",
    "        [uploaded_file] = up.value\n",
    "        print(\"\\n Le fichier\",uploaded_file, \"a bien été importé.\\n\")\n",
    "        return [t,x,y]          \n",
    "                   \n",
    "def preview_clicked(b):\n",
    "    preview()\n",
    "    \n",
    "tab = widgets.Tab()    \n",
    "out = widgets.Output(layout={'border': '1px solid black'})\n",
    "up = widgets.FileUpload(accept=\".txt\", multiple=False)\n",
    "delim = widgets.Dropdown(\n",
    "    options=[('point-virgule',';'),('espace',' '), ('tabulation','\\t')],\n",
    "    #description='Séparateur des données : ',\n",
    "    disabled=False)\n",
    "rows = widgets.IntSlider(\n",
    "    value=3,\n",
    "    min=0,\n",
    "    max=10,\n",
    "    step=1,\n",
    "    #description='Nombre de lignes à supprimer :',\n",
    "    disabled=False,\n",
    "    continuous_update=False,\n",
    "    orientation='horizontal',\n",
    "    readout=True,\n",
    "    readout_format='d')\n",
    "button_preview = widgets.Button(\n",
    "    description='Aperçu',\n",
    "    disabled=False,\n",
    "    button_style='info',\n",
    "    tooltip='Cliquer pour voir',\n",
    "    icon='search')\n",
    "\n",
    "button_preview.on_click(preview_clicked)"
   ]
  },
  {
   "cell_type": "code",
   "execution_count": null,
   "metadata": {},
   "outputs": [],
   "source": [
    "widgets.VBox([\n",
    "    widgets.HTML(value = f\"<b><font color='blue'>Etape n°1 : Sélectionner un fichier .txt et attendre que le 0 disparaisse</b>\"),\n",
    "    up,\n",
    "    widgets.HTML(value = f\"<b><font color='blue'>Etape n°2 : Si besoin, changer les paramètres d'importation</b>\"),\n",
    "    widgets.HBox([widgets.Label('Séparateur des données :'),delim]),\n",
    "    widgets.HBox([widgets.Label('Nombre de lignes à supprimer :'),rows]),\n",
    "    widgets.HTML(value = f\"<b><font color='blue'>Etape n°3 : Cliquer sur Aperçu pour vérifier les paramètres</b>\"),\n",
    "    button_preview,\n",
    "    out])"
   ]
  },
  {
   "cell_type": "code",
   "execution_count": null,
   "metadata": {},
   "outputs": [],
   "source": [
    "t,x,y = upload()"
   ]
  },
  {
   "cell_type": "markdown",
   "metadata": {},
   "source": [
    "<div class=\"alert alert-success\" role=\"alert\">\n",
    "Il faut maintenant comprendre comment les informations sont stockées.\n",
    "</div>"
   ]
  },
  {
   "cell_type": "code",
   "execution_count": null,
   "metadata": {},
   "outputs": [],
   "source": [
    "print(t)"
   ]
  },
  {
   "cell_type": "code",
   "execution_count": null,
   "metadata": {},
   "outputs": [],
   "source": [
    "print(x)"
   ]
  },
  {
   "cell_type": "code",
   "execution_count": null,
   "metadata": {},
   "outputs": [],
   "source": [
    "print(y)"
   ]
  },
  {
   "cell_type": "code",
   "execution_count": null,
   "metadata": {},
   "outputs": [],
   "source": [
    "print(\"Coordonnées du premier point :\",t[0],x[0],y[0])"
   ]
  },
  {
   "cell_type": "code",
   "execution_count": null,
   "metadata": {},
   "outputs": [],
   "source": [
    "print(\"Coordonnées du dernier point :\",t[-1],x[-1],y[-1])"
   ]
  }
 ],
 "metadata": {
  "kernelspec": {
   "display_name": "Python 3",
   "language": "python",
   "name": "python3"
  },
  "language_info": {
   "codemirror_mode": {
    "name": "ipython",
    "version": 3
   },
   "file_extension": ".py",
   "mimetype": "text/x-python",
   "name": "python",
   "nbconvert_exporter": "python",
   "pygments_lexer": "ipython3",
   "version": "3.7.6"
  }
 },
 "nbformat": 4,
 "nbformat_minor": 4
}
