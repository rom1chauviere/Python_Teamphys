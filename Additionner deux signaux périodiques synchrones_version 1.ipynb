{
 "cells": [
  {
   "cell_type": "markdown",
   "metadata": {},
   "source": [
    "## Génération des coordonnées du premier signal périodique"
   ]
  },
  {
   "cell_type": "code",
   "execution_count": null,
   "metadata": {},
   "outputs": [],
   "source": [
    "from math import pi, sin\n",
    "\n",
    "\"\"\"\n",
    "Fonction générant les coordonnées du signal sinusoïdal s(t) à partir des paramètres choisis par l'utilisateur\n",
    "Entrées : amplitude A (en UA), période T (en s), durée maximal t_max (en s)\n",
    "Résultat : ensemble sous forme d'une liste des coordonnées des points formant le signal sinusoïdal\n",
    "\"\"\"\n",
    "def signal_t(A,T,t_max):\n",
    "    t=[]                                     # Création d'une liste vide pour le temps en s\n",
    "    s=[]                                     # Création d'une liste vide pour l'image de la fonction sinusoïdale s(t) en UA\n",
    "    points=1000                              # 1 000 couples de coordonnées\n",
    "    for i in range(points):                  # Boucle pour compléter les listes\n",
    "        t.append(i*t_max/points)             # Ajout du temps en s commençant à t = 0 s\n",
    "        s.append(A*sin(2*pi/T*t[i]+pi/2))    # Ajout de l'image de la fonction sinusoïdale s(t) avec un déphasage de + π/2\n",
    "    return [t,s]                             # Renvoie une liste des listes temps et image de la fonction sinusoïdale s(t)"
   ]
  },
  {
   "cell_type": "code",
   "execution_count": null,
   "metadata": {},
   "outputs": [],
   "source": [
    "#signal n°1\n",
    "A1 = ---A COMPLETER---         # Amplitude en UA\n",
    "T1 = ---A COMPLETER---         # Période en s\n",
    "\n",
    "t_max = ---A COMPLETER---      # Durée maximale en s (valeur entière)\n",
    "\n",
    "'''Exemple\n",
    "A1=1.8\n",
    "T1=2.4\n",
    "t_max=10'''\n",
    "\n",
    "t,s1=signal_t(A1,T1,t_max)"
   ]
  },
  {
   "cell_type": "markdown",
   "metadata": {},
   "source": [
    "## Génération des coordonnées du second signal périodique synchone avec le premier de même amplitude mais avec un déphasage"
   ]
  },
  {
   "cell_type": "code",
   "execution_count": null,
   "metadata": {},
   "outputs": [],
   "source": [
    "\"\"\"\n",
    "Fonction générant les coordonnées d'un signal sinusoïdal s(t) synchone avec un autre mais avec un déphasage\n",
    "Entrées : amplitude A (en UA), période T (en s), durée maximal t_max (en s), déphasage (en radian)\n",
    "Résultat : liste des coordonnées du second signal\n",
    "\"\"\"\n",
    "def signal_synchrone(A,T,t_max,phi):\n",
    "    t=[]                                     # Création d'une liste vide pour le temps en s\n",
    "    s=[]                                     # Création d'une liste vide pour l'image de la fonction sinusoïdale s(t) en UA\n",
    "    points=1000                              # 1 000 couples de coordonnées\n",
    "    for i in range(points):                  # Boucle pour compléter les listes\n",
    "        t.append(i*t_max/points)             # Ajout du temps en s commençant à t = 0 s\n",
    "        s.append(A*sin(2*pi/T*t[i]+pi/2+phi))# Ajout de l'image de la fonction sinusoïdale s(t) avec un déphasage de (π/2 + phi)\n",
    "    return s                                 # Renvoie une liste image de la fonction sinusoïdale s(t)"
   ]
  },
  {
   "cell_type": "code",
   "execution_count": null,
   "metadata": {},
   "outputs": [],
   "source": [
    "#signal n°2 synchrone au signal n°1\n",
    "phi = ---A COMPLETER---      # déphasage (en radian)\n",
    "\n",
    "'''Exemple\n",
    "phi = pi/2'''\n",
    "\n",
    "s2=signal_synchrone(A1,T1,t_max,phi)"
   ]
  },
  {
   "cell_type": "markdown",
   "metadata": {
    "collapsed": true
   },
   "source": [
    "## Addition de deux signaux périodiques synchrones"
   ]
  },
  {
   "cell_type": "code",
   "execution_count": null,
   "metadata": {},
   "outputs": [],
   "source": [
    "\"\"\"\n",
    "Fonction générant les coordonnées de la somme deux signaux périodiques synchrones\n",
    "Entrées : coordonnées du premier signal, coordonnées du second signal\n",
    "Résultat : liste des coordonnées de la somme deux signaux périodiques synchrones\n",
    "\"\"\"\n",
    "def somme_signaux_synchrones(signal_1,signal_2):\n",
    "    s=[]                                     # Création d'une liste vide pour faire la somme deux signaux périodiques synchrones\n",
    "    for i in range(len(signal_1)):                  # Boucle pour compléter les listes\n",
    "        s.append(signal_1[i]+signal_2[i])# Ajout de l'image de la fonction sinusoïdale s(t) avec un déphasage de (π/2 + phi)\n",
    "    return s     "
   ]
  },
  {
   "cell_type": "code",
   "execution_count": null,
   "metadata": {},
   "outputs": [],
   "source": [
    "s3=somme_signaux_synchrones(s1,s2)"
   ]
  },
  {
   "cell_type": "markdown",
   "metadata": {},
   "source": [
    "## Représentation de la somme de deux signaux périodiques synchrones (3 graphes)"
   ]
  },
  {
   "cell_type": "code",
   "execution_count": null,
   "metadata": {},
   "outputs": [],
   "source": [
    "import matplotlib.pyplot as plt\n",
    "\n",
    "fig = plt.figure(figsize=(12,12))                         # taille de l'affichage de la figure\n",
    "plt.subplots_adjust(hspace = 0.3)                         # espace réservé à chaque graphe\n",
    "plt.rc('legend', fontsize='larger')                       # taille de l'affichage de la légende\n",
    "\n",
    "# premier graphe\n",
    "ax1 = fig.add_subplot(3, 1, 1)                            # séparation horizontale en trois de la figure\n",
    "ax1.set_title('Premier signal')                           # Titre du graphe\n",
    "ax1.plot(t,s1,color=\"blue\",linewidth=1.0,linestyle=\"-\",\n",
    "         label=\"A1 = {:.1f} m et T1 = {:.1f} s\".format(A1,T1))\n",
    "# Trace le premier signal s1=f(t) en trait plein bleu\n",
    "# Affiche en légende de A1 et T1 avec un chiffre après la virgule\n",
    "ax1.legend(loc='upper right')                             # Affiche la légende en haut à droite\n",
    "ax1.set_xlim(0,t_max)                                     # Bornes de l'axe des abscisses\n",
    "ax1.set_ylim(-2.1*max(max(s1),max(s2)),2.1*max(max(s1),max(s2)))# Bornes de l'axe des ordonnées\n",
    "ax1.set_xlabel('temps (en s)')                            # légende axe des abscisses\n",
    "ax1.set_ylabel('amplitude (en UA)')                       # légende axe des ordonnées\n",
    "ax1.grid(linestyle=\":\")                                   # Affiche une grille en petits points\n",
    "\n",
    "# deuxième graphe\n",
    "ax2 = fig.add_subplot(3, 1, 2)\n",
    "ax2.set_title('Signal synchrone au précédent')            # Titre du graphe\n",
    "ax2.plot(t,s2,color=\"green\",linewidth=1,linestyle=\"-\",\n",
    "         label=\"déphasage à l'origine = {:.2f} radian\".format(phi))\n",
    "# Trace le deuxième signal s2=f(t) en trait plein vert\n",
    "# Affiche en légende phi avec deux chiffres après la virgule\n",
    "ax2.legend(loc='upper right')                             # Affiche la légende en haut à droite\n",
    "ax2.set_xlim(0,t_max)                                     # Bornes de l'axe des abscisses\n",
    "ax2.set_ylim(-2.1*max(max(s1),max(s2)),2.1*max(max(s1),max(s2)))# Bornes de l'axe des ordonnées\n",
    "ax2.set_xlabel('temps (en s)')                            # légende axe des abscisses\n",
    "ax2.set_ylabel('amplitude (en UA)')                       # légende axe des ordonnées\n",
    "ax2.grid(linestyle=\":\")                                   # Affiche une grille en petits points\n",
    "\n",
    "# troisième graphe\n",
    "ax3 = fig.add_subplot(3, 1, 3)\n",
    "ax3.set_title('Somme des deux signaux périodiques synchrones')  # Titre du graphe\n",
    "ax3.plot(t,s3,color=\"red\",linewidth=1,linestyle=\"-\",\n",
    "         label=\"somme\")\n",
    "# Trace la somme des deux signaux périodiques synchrones s3=f(t) en trait plein rouge\n",
    "ax3.legend(loc='upper right')                             # Affiche la légende en haut à droite\n",
    "ax3.set_xlim(0,t_max)                                     # Bornes de l'axe des abscisses\n",
    "ax3.set_ylim(-2.1*max(max(s1),max(s2)),2.1*max(max(s1),max(s2)))# Bornes de l'axe des ordonnées\n",
    "ax3.set_xlabel('temps (en s)')                            # légende axe des abscisses\n",
    "ax3.set_ylabel('amplitude (en UA)')                       # légende axe des ordonnées\n",
    "ax3.grid(linestyle=\":\")                                   # Affiche une grille en petits points\n"
   ]
  },
  {
   "cell_type": "markdown",
   "metadata": {},
   "source": [
    "## Représentation de la somme de deux signaux périodiques synchrones (unique graphe)"
   ]
  },
  {
   "cell_type": "code",
   "execution_count": null,
   "metadata": {},
   "outputs": [],
   "source": [
    "import matplotlib.pyplot as plt\n",
    "\n",
    "plt.rcParams['figure.figsize'] = [10, 10]             # taille de l'affichage du graphique\n",
    "plt.rc('legend', fontsize='larger')                   # taille de l'affichage de la légende\n",
    "plt.title('Somme des deux signaux périodiques synchrones')  # Titre du graphe\n",
    "plt.xlabel('temps (en s)')                            # légende axe des abscisses\n",
    "plt.ylabel('amplitude (en UA)')                       # légende axe des ordonnées\n",
    "plt.xlim(0,t_max)                                     # Bornes de l'axe des abscisses\n",
    "plt.ylim(-2.1*max(max(s1),max(s2)),2.1*max(max(s1),max(s2)))              # Bornes de l'axe des ordonnées\n",
    "plt.grid(linestyle=\":\")                                            # Affiche une grille\n",
    "plt.plot(t,s1,color=\"blue\",linewidth=1.0,linestyle=\"-\",\n",
    "         label=\"A1 = {:.1f} m et T1 = {:.1f} s\".format(A1,T1))\n",
    "                                                      # Trace le premier signal s1=f(t) en trait plein bleu\n",
    "                                                      # Affiche en légende de A1 et T1 avec un chiffre après la virgule\n",
    "plt.plot(t,s2,color=\"green\",linewidth=1,linestyle=\"-\",\n",
    "         label=\"déphasage à l'origine = {:.2f} radian\".format(phi))\n",
    "                                                      # Trace le second signal s2=f(t) en trait plein vert\n",
    "                                                      # Affiche en légende phi avec deux chiffres après la virgule\n",
    "plt.plot(t,s3,color=\"red\",linewidth=1,linestyle=\"-\",\n",
    "         label=\"somme\")\n",
    "# Trace la somme des deux signaux périodiques synchrones s3=f(t) en trait plein rouge\n",
    "plt.legend(loc='upper right')                         # Affiche la légende en haut à droite\n",
    "plt.show()                                            # Affiche le graphique"
   ]
  },
  {
   "cell_type": "code",
   "execution_count": null,
   "metadata": {},
   "outputs": [],
   "source": []
  }
 ],
 "metadata": {
  "kernelspec": {
   "display_name": "Python 3",
   "language": "python",
   "name": "python3"
  },
  "language_info": {
   "codemirror_mode": {
    "name": "ipython",
    "version": 3
   },
   "file_extension": ".py",
   "mimetype": "text/x-python",
   "name": "python",
   "nbconvert_exporter": "python",
   "pygments_lexer": "ipython3",
   "version": "3.7.6"
  }
 },
 "nbformat": 4,
 "nbformat_minor": 2
}
