{
 "cells": [
  {
   "cell_type": "markdown",
   "metadata": {},
   "source": [
    "<div class=\"alert alert-danger\" role=\"alert\">\n",
    "<center><font size=\"5\">Les fonctions ci-dessous ne fonctionnent pas dans EduPython et l'ENT. <br>En revanche, elles fonctionnent avec Binder (et autres).</font></center>\n",
    "</div>"
   ]
  },
  {
   "cell_type": "markdown",
   "metadata": {},
   "source": [
    "## Génération et somme des coordonnées deux signaux périodiques synchrones\n",
    "<div class=\"alert alert-success\" role=\"alert\">\n",
    "Exécuter les deux blocs ci-dessous.<br>\n",
    "(Aucune compréhension du code n'est demandée)\n",
    "</div>"
   ]
  },
  {
   "cell_type": "code",
   "execution_count": 4,
   "metadata": {},
   "outputs": [],
   "source": [
    "import ipywidgets as widgets\n",
    "import matplotlib.pyplot as plt\n",
    "from math import pi, sin\n",
    "\n",
    "\n",
    "'''def content_parser():\n",
    "    if up.value == {}:\n",
    "        with out:\n",
    "            print(\"Veuillez effectuer l'étape n°1\")    \n",
    "    else:\n",
    "        #content = \"\"\n",
    "        #up_value = up.value # récupère les données du fichier uplaodé dans la variable uploader\n",
    "        [uploaded_file] = up.value # récupère le nom du fichier uplaodé\n",
    "        return up.value[uploaded_file][\"content\"] # récupère les valeurs contenues dans le fichier uplaodé'''\n",
    "\n",
    "def signal_t(A,T,t_max):\n",
    "    t=[]                                     # Création d'une liste vide pour le temps en s\n",
    "    s=[]                                     # Création d'une liste vide pour l'image de la fonction sinusoïdale s(t) en UA\n",
    "    points=1000                              # 1 000 couples de coordonnées\n",
    "    for i in range(points):                  # Boucle pour compléter les listes\n",
    "        t.append(i*t_max/points)             # Ajout du temps en s commençant à t = 0 s\n",
    "        s.append(A*sin(2*pi/T*t[i]+pi/2))    # Ajout de l'image de la fonction sinusoïdale s(t) avec un déphasage de + π/2\n",
    "    return [t,s]                             # Renvoie une liste des listes temps et image de la fonction sinusoïdale s(t) \n",
    "\n",
    "def signal_synchrone(A,T,t_max,phi):\n",
    "    t=[]                                     # Création d'une liste vide pour le temps en s\n",
    "    s=[]                                     # Création d'une liste vide pour l'image de la fonction sinusoïdale s(t) en UA\n",
    "    points=1000                              # 1 000 couples de coordonnées\n",
    "    for i in range(points):                  # Boucle pour compléter les listes\n",
    "        t.append(i*t_max/points)             # Ajout du temps en s commençant à t = 0 s\n",
    "        s.append(A*sin(2*pi/T*t[i]+pi/2+phi))# Ajout de l'image de la fonction sinusoïdale s(t) avec un déphasage de (π/2 + phi)\n",
    "    return s                                 # Renvoie une liste image de la fonction sinusoïdale s(t)\n",
    "\n",
    "def somme_signaux_synchrones(signal_1,signal_2):\n",
    "    s=[]                                     # Création d'une liste vide pour faire la somme deux signaux périodiques synchrones\n",
    "    for i in range(len(signal_1)):                  # Boucle pour compléter les listes\n",
    "        s.append(signal_1[i]+signal_2[i])# Ajout de l'image de la fonction sinusoïdale s(t) avec un déphasage de (π/2 + phi)\n",
    "    return s    \n",
    "\n",
    "def preview():\n",
    "    t,s1=signal_t(A,T,t_max)\n",
    "    with out:\n",
    "        out.clear_output()\n",
    "        plt.figure(figsize=(12,12))\n",
    "        plt.plot(t,s1,color=\"blue\",linewidth=1.0,linestyle=\"-\",\n",
    "         label=\"A = {:.1f} m et T = {:.1f} s\".format(A,T))\n",
    "        plt.show()\n",
    "A=1.8\n",
    "T=2.4\n",
    "t_max=10\n",
    "    \n",
    "\"\"\"def plot():\n",
    "    graph = graph_type.value\n",
    "    if graph != {}:\n",
    "        df = df_converter()\n",
    "        with out:\n",
    "            out.clear_output()\n",
    "            print('\\n -----Your {} looks like:----- \\n'.format(\n",
    "                graph))\n",
    "            if (df is not None):\n",
    "                df = df.head(5)\n",
    "                height = df[y_axis.value]\n",
    "                bars = df[x_axis.value]\n",
    "                y_pos = np.arange(len(height))\n",
    "                plt.figure(figsize=(10,4))\n",
    "                if graph == 'Bar Chart':\n",
    "                    plt.bar(\n",
    "                        y_pos, \n",
    "                        height, \n",
    "                        color=color_picker.value)\n",
    "                    plt.xticks(y_pos, bars)\n",
    "                elif graph == 'Line Chart':\n",
    "                    plt.plot(\n",
    "                        bars,\n",
    "                        height, \n",
    "                        color=color_picker.value,\n",
    "                        marker='o', \n",
    "                        linestyle='solid'\n",
    "                    )\n",
    "                    plt.xticks(bars)\n",
    "                plt.show()\n",
    "\n",
    "def plotter_clicked(b):\n",
    "    plot()\n",
    "button_plot.on_click(plotter_clicked)\n",
    "\"\"\"    \n",
    "\n",
    "def preview_clicked(b):\n",
    "    preview()\n",
    "    \n",
    "tab = widgets.Tab()    \n",
    "out = widgets.Output(layout={'border': '1px solid black'})\n",
    "up = widgets.FileUpload(accept=\".txt\", multiple=False)\n",
    "delim = widgets.Dropdown(\n",
    "    options=[('point-virgule',';'),('espace',' '), ('tabulation','\\t')],\n",
    "    #description='Séparateur des données : ',\n",
    "    disabled=False)\n",
    "rows = widgets.IntSlider(\n",
    "    value=3,\n",
    "    min=0,\n",
    "    max=10,\n",
    "    step=1,\n",
    "    #description='Nombre de lignes à supprimer :',\n",
    "    disabled=False,\n",
    "    continuous_update=False,\n",
    "    orientation='horizontal',\n",
    "    readout=True,\n",
    "    readout_format='d')\n",
    "button_preview = widgets.Button(\n",
    "    description='Aperçu',\n",
    "    disabled=False,\n",
    "    button_style='info',\n",
    "    tooltip='Cliquer pour voir',\n",
    "    icon='search')\n",
    "\n",
    "button_preview.on_click(preview_clicked)"
   ]
  },
  {
   "cell_type": "code",
   "execution_count": null,
   "metadata": {},
   "outputs": [],
   "source": [
    "'''widgets.VBox([\n",
    "    widgets.HTML(value = f\"<b><font color='blue'>Etape n°1 : Sélectionner un fichier .txt et attendre que le 0 disparaisse</b>\"),\n",
    "    up,\n",
    "    widgets.HTML(value = f\"<b><font color='blue'>Etape n°2 : Si besoin, changer les paramètres d'importation</b>\"),\n",
    "    widgets.HBox([widgets.Label('Séparateur des données :'),delim]),\n",
    "    widgets.HBox([widgets.Label('Nombre de lignes à supprimer :'),rows]),\n",
    "    widgets.HTML(value = f\"<b><font color='blue'>Etape n°3 : Cliquer sur Aperçu pour vérifier les paramètres</b>\"),\n",
    "    button_preview,\n",
    "    out])'''"
   ]
  },
  {
   "cell_type": "code",
   "execution_count": 5,
   "metadata": {},
   "outputs": [
    {
     "data": {
      "application/vnd.jupyter.widget-view+json": {
       "model_id": "7c0e65daf0f14e37a80c08e0683889d6",
       "version_major": 2,
       "version_minor": 0
      },
      "text/plain": [
       "VBox(children=(Button(button_style='info', description='Aperçu', icon='search', style=ButtonStyle(), tooltip='…"
      ]
     },
     "metadata": {},
     "output_type": "display_data"
    }
   ],
   "source": [
    "widgets.VBox([\n",
    "    button_preview,\n",
    "    out])"
   ]
  }
 ],
 "metadata": {
  "kernelspec": {
   "display_name": "Python 3",
   "language": "python",
   "name": "python3"
  },
  "language_info": {
   "codemirror_mode": {
    "name": "ipython",
    "version": 3
   },
   "file_extension": ".py",
   "mimetype": "text/x-python",
   "name": "python",
   "nbconvert_exporter": "python",
   "pygments_lexer": "ipython3",
   "version": "3.7.6"
  }
 },
 "nbformat": 4,
 "nbformat_minor": 4
}
