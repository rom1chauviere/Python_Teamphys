{
 "cells": [
  {
   "cell_type": "markdown",
   "metadata": {},
   "source": [
    "## Génération des coordonnées d'un mouvement elliptique"
   ]
  },
  {
   "cell_type": "code",
   "execution_count": null,
   "metadata": {},
   "outputs": [],
   "source": [
    "from math import cos, sin, pi, sqrt\n",
    "\n",
    "\"\"\"\n",
    "Fonction générant un tableau de coordonnées t, x et y pour un mouvement elliptique (sens trigo)\n",
    "            centré sur l'un des foyers F sur une période T\n",
    "Entrées :   demi grand-axe a,\n",
    "            excentricité e,\n",
    "            période T,\n",
    "            nombre souhaité de coordonnées\n",
    "Résultat : liste contenant la liste de tous les t (en s), la liste de tous les x (en m) et la liste de tous les y (en m).\n",
    "\"\"\"\n",
    "def solve_Kepler_for_E_B(M,e):\n",
    "    tol = 1.e-09\n",
    "    breakflag = 0\n",
    "    E1 = M\n",
    "    while breakflag == 0:\n",
    "        # Fixed-point iterative version of Kepler's Equation\n",
    "        E = M + e*sin(E1);\n",
    "        #Break loop if tolerance is achieved\n",
    "        if abs(E - E1) < tol:\n",
    "            breakflag = 1;\n",
    "        else:\n",
    "            E1 = E;\n",
    "\n",
    "    # Format the answer so that it is between 0 and 2*pi\n",
    "    while E > (2*pi):\n",
    "        E = E - 2*pi\n",
    "    while E < 0:\n",
    "        E = E + 2*pi\n",
    "    return E\n",
    "\n",
    "def modele_ellipse(a,e,T,nb_inter):\n",
    "    b=a*sqrt(1-e**2)\n",
    "    F=+a*e\n",
    "    t=[0]\n",
    "    x=[a-F]\n",
    "    y=[0]\n",
    "    alpha=int(360/nb_inter)\n",
    "    #Boucle sur l'anomalie moyenne exprimée en degrés puis en radians\n",
    "    for M_d in range(alpha,360,alpha):\n",
    "        M = M_d*pi/180\n",
    "        #Anomalie excentrique [rad]\n",
    "        E = solve_Kepler_for_E_B(M, e)\n",
    "        #Anomalie vraie [rad]. On passe par les composantes de la position pour pouvoir utiliser la fonction atan2\n",
    "        #xv = cos(E)-e\n",
    "        #yv = sqrt(1-e**2)*sin(E)\n",
    "        #v = atan2(yv,xv)\n",
    "        #v = v-floor(0.5*v/pi)*2*pi\n",
    "        t.append(round(T/(2*pi)*(E-e*sin(E)),3))\n",
    "        x.append(round(a*(cos(E)-e),3))\n",
    "        y.append(round(b*sin(E),3))\n",
    "    return [t, x, y]"
   ]
  },
  {
   "cell_type": "code",
   "execution_count": null,
   "metadata": {},
   "outputs": [],
   "source": [
    "t,x,y=modele_ellipse(---A COMPLETER---)\n",
    "\n",
    "'''Exemple'''\n",
    "#t,x,y=modele_ellipse(2.01,0.57,1004,36)"
   ]
  },
  {
   "cell_type": "markdown",
   "metadata": {},
   "source": [
    "<div class=\"alert alert-success\" role=\"alert\">\n",
    "On vérifie visuellement si cela correspond à notre souhait.\n",
    "</div>"
   ]
  },
  {
   "cell_type": "code",
   "execution_count": null,
   "metadata": {},
   "outputs": [],
   "source": [
    "import matplotlib.pyplot as plt\n",
    "\"\"\"\n",
    "Fonction générant le nuage de points \"ordonnée en fonction d'abscisse\"\n",
    "Entrées : coordonnées des abscisses, coordonnées des ordonnées, titre abscisse, titre ordonnée, titre graphique\n",
    "Résultat : nuage de points \"ordonnée en fonction d'abscisse\" ou \"ordonnée = f(abscisse)\"\n",
    "\"\"\"\n",
    "def nuagedepoints(abscisses,ordonnees,abscisse_title,ordonnee_title,title):\n",
    "    plt.rcParams['figure.figsize'] = [10, 10]\n",
    "                            # taille de l'affichage du graphique\n",
    "    plt.plot(abscisses, ordonnees, linestyle=\"none\" ,marker=\"x\" ,color=\"red\", markersize=\"10\",label=\"nuage de points\")\n",
    "                            # nuage de points,'none' points non reliés,'x' forme des points (o,-,+,s)\n",
    "                            # 'red' couleur (blue, green, cyan, magenta, yellow, black)\n",
    "                            # '10' taille des points\n",
    "                            # affiche la légende\n",
    "    plt.axis('equal')       # repère orthonormé\n",
    "    plt.plot(0,0,marker='+',color='blue') # position du foyer\n",
    "    plt.text(0,min(y)/10,'F',color='blue', horizontalalignment='center', verticalalignment='center')\n",
    "    plt.xlabel(abscisse_title)      # légende axe des abscisses\n",
    "    plt.ylabel(ordonnee_title)      # légende axe des ordonnées\n",
    "    plt.title(title)        # affiche un titre\n",
    "    \n",
    "nuagedepoints(x,y,'x (en UA)','y (en UA)','Tracé de la trajectoire y = f(x)')\n",
    "plt.show()"
   ]
  },
  {
   "cell_type": "markdown",
   "metadata": {},
   "source": [
    "<div class=\"alert alert-success\" role=\"alert\">\n",
    "Si cela vous convient, nous allons enregistrer les coordonnées dans le fichier coordonnees_mouvement_elliptique.txt présent dans le même dossier que le notebook.\n",
    "</div>"
   ]
  },
  {
   "cell_type": "code",
   "execution_count": null,
   "metadata": {},
   "outputs": [],
   "source": [
    "\"\"\"\n",
    "Fonction écrivant les coordonnées t, x et y dans un fichier .txt déjà EXISTANT\n",
    "(avec le point-virgule comme séparateur entre les données)\n",
    "Entrées : tableau de valeurs t, x et y, nom du fichier\n",
    "Résultat : le fichier est modifié (suppression du contenu précédent) avec les coordonnées t (en s), x (en m) et y (en m)\n",
    "\"\"\"\n",
    "def modification_fichier(t,x,y,name):\n",
    "    sep=\";\"\n",
    "    f = open(name,\"w\") # r= read, w = write\n",
    "    data=[[\"Pointages AviMeca\"],[\"t;x;y\"],[\"(s);(m);(m)\"]] # on initialise le tableau des données avec les en-têtes d'un fichier semblant provenir d'Aviméca\n",
    "    l=len(t) # nombre de lignes du tableau\n",
    "    for i in range(l):\n",
    "        data.append([str(t[i]),str(x[i]),str(y[i])]) # on convertit les valeurs en texte que l'on ajoute sous d'une liste\n",
    "\n",
    "    for valeur in data:\n",
    "        ligne = sep.join(valeur) + \"\\n\"\n",
    "        ligne = ligne.replace(\".\" , \",\") #change les points en virgule => format numérique différent sur python et sur Regressi ou tableur\n",
    "        f.write(ligne)\n",
    "    f.close() #on referme le fichier\n",
    "    print(\"Le fichier\",name,\"a bien été modifié.\")\n",
    "\n",
    "modification_fichier(t,x,y,\"coordonnees_mouvement_elliptique.txt\")"
   ]
  },
  {
   "cell_type": "markdown",
   "metadata": {},
   "source": [
    "<div class=\"alert alert-danger\" role=\"alert\">\n",
    "<center><font size=\"5\">Pensez à télécharger (et renommer si besoin) le fichier txt sur votre ordinateur</font></center>\n",
    "</div>"
   ]
  }
 ],
 "metadata": {
  "kernelspec": {
   "display_name": "Python 3",
   "language": "python",
   "name": "python3"
  },
  "language_info": {
   "codemirror_mode": {
    "name": "ipython",
    "version": 3
   },
   "file_extension": ".py",
   "mimetype": "text/x-python",
   "name": "python",
   "nbconvert_exporter": "python",
   "pygments_lexer": "ipython3",
   "version": "3.7.6"
  }
 },
 "nbformat": 4,
 "nbformat_minor": 4
}
